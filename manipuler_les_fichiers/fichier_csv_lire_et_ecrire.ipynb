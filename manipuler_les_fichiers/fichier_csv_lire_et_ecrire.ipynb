{
 "cells": [
  {
   "cell_type": "markdown",
   "id": "6d54e091-8d60-4618-a918-42e45042737a",
   "metadata": {},
   "source": [
    "# Des fichiers CSV comme listes de listes ou dictionnaires\n",
    "\n",
    "## Documentation Python\n",
    "\n",
    "* https://www.geeksforgeeks.org/load-csv-data-into-list-and-dictionary-using-python/\n",
    "* https://code-paper.com/python/examples-csv-separator-python\n",
    "\n",
    "## Fichier pour l'exercice\n",
    "\n",
    "Le fichier \"Z.22b Etudiants par université, genre et origine, de 1891/92 à 1990/91\" utilisé pour cet exercice est tiré du site web [Statistique historique de la Suisse](https://hsso.ch/de/2012/z/22b). Il contient des données agrégées concernant la fréquentation des Universités suisses et les effectifs des étudiant·e·s.\n",
    "\n",
    "Outre la table contenant les données, le fichier mis à disposition sous licence CC BY-NC-SA contient le titre, les sources du tableau etc. Après téléchargement du fichier à partir du site web indiqué, il doit tout d'abord être nettoyé et préparé pour les traitements. \n",
    "* On l'ouvrira donc dans un tableur (Excel, Calc, etc.) afin d'effacer les lignes superflues. Toute ligne autre que le tableau de données, et même les lignes vides entre les noms des colonnes et le tableau des données doivent être supprimées\n",
    "* On doit ensuite sauvegarder le fichier au format texte séparé par virgule et en l'enregistrant à cette adresse: */donnees/etudiantes_universites_suisses.csv* (dans le dossier où ce trouve le présent carnet Jupyter). Pour exporter le  fichier, nous avons choisi comme séparateur entre les cellules le tabulateur, et non la virgule, pour prendre conscience des différentes possibilités: '\\t' donc comme séparateur, sigle: tab.\n",
    "\n",
    "----\n"
   ]
  },
  {
   "cell_type": "markdown",
   "id": "1129d5b8-199d-4468-8b07-d7850ed22678",
   "metadata": {},
   "source": [
    "## Ouverture et exploration du fichier\n",
    "\n",
    "Une fois le fichier CSV (séparé par tab) enregistré dans le dossier *'donnees'*, on peut l'ouvrir et l'inspecter, puis exécuter les traitements présentés ci-dessous"
   ]
  },
  {
   "cell_type": "code",
   "execution_count": 1,
   "id": "445a51f4-812d-4f4c-acf9-ab3fb7207081",
   "metadata": {},
   "outputs": [],
   "source": [
    "import csv"
   ]
  },
  {
   "cell_type": "code",
   "execution_count": 2,
   "id": "b30f9e34-ae86-43fa-a6aa-1c3400123fac",
   "metadata": {},
   "outputs": [
    {
     "data": {
      "text/plain": [
       "101"
      ]
     },
     "execution_count": 2,
     "metadata": {},
     "output_type": "execute_result"
    }
   ],
   "source": [
    "file = 'donnees/etudiantes_universites_suisses.csv'\n",
    "with open(file) as f:\n",
    "    reader = csv.reader(f, delimiter='\\t')\n",
    "    my_list = list(reader)\n",
    "len(my_list)"
   ]
  },
  {
   "cell_type": "code",
   "execution_count": 4,
   "id": "7bee12c2-a56e-43e5-a924-a09f1015efae",
   "metadata": {},
   "outputs": [
    {
     "data": {
      "text/plain": [
       "[['Année',\n",
       "  'Zürich',\n",
       "  'Basel',\n",
       "  'Genf',\n",
       "  'Bern',\n",
       "  'Lausanne',\n",
       "  'Freiburg',\n",
       "  'Neuenburg',\n",
       "  'Total',\n",
       "  'Zurich',\n",
       "  'Bâle',\n",
       "  'Genève',\n",
       "  'Berne',\n",
       "  'Lausanne',\n",
       "  'Fribourg',\n",
       "  'Neuchâtel',\n",
       "  'Total',\n",
       "  'Zürich',\n",
       "  'Basel',\n",
       "  'Genf',\n",
       "  'Bern',\n",
       "  'Lausanne',\n",
       "  'Freiburg',\n",
       "  'Neuenburg',\n",
       "  'Total'],\n",
       " ['1891/92',\n",
       "  '543',\n",
       "  '401',\n",
       "  '536',\n",
       "  '534',\n",
       "  '289',\n",
       "  '168',\n",
       "  '60',\n",
       "  '2531',\n",
       "  '67',\n",
       "  '1',\n",
       "  '89',\n",
       "  '80',\n",
       "  '5',\n",
       "  '0',\n",
       "  '0',\n",
       "  '242',\n",
       "  '192',\n",
       "  '75',\n",
       "  '347',\n",
       "  '126',\n",
       "  '89',\n",
       "  '56',\n",
       "  '1',\n",
       "  '886']]"
      ]
     },
     "execution_count": 4,
     "metadata": {},
     "output_type": "execute_result"
    }
   ],
   "source": [
    "### Afficher les deux premières lignes\n",
    "my_list[:2]"
   ]
  },
  {
   "cell_type": "code",
   "execution_count": 6,
   "id": "4458f96c-fb81-4a48-86e2-2ac2282edf59",
   "metadata": {},
   "outputs": [
    {
     "data": {
      "text/plain": [
       "'543'"
      ]
     },
     "execution_count": 6,
     "metadata": {},
     "output_type": "execute_result"
    }
   ],
   "source": [
    "### Valeur de la deuxième cellule de la deuxième ligne\n",
    "my_list[1][1]"
   ]
  },
  {
   "cell_type": "code",
   "execution_count": 10,
   "id": "14b6812a-17e5-49a6-bf9f-edcf93c5efc2",
   "metadata": {},
   "outputs": [
    {
     "data": {
      "text/plain": [
       "['Année',\n",
       " 'Zürich',\n",
       " 'Basel',\n",
       " 'Genf',\n",
       " 'Bern',\n",
       " 'Lausanne',\n",
       " 'Freiburg',\n",
       " 'Neuenburg',\n",
       " 'Total',\n",
       " 'Zurich',\n",
       " 'Bâle',\n",
       " 'Genève',\n",
       " 'Berne',\n",
       " 'Lausanne',\n",
       " 'Fribourg',\n",
       " 'Neuchâtel',\n",
       " 'Total',\n",
       " 'Zürich',\n",
       " 'Basel',\n",
       " 'Genf',\n",
       " 'Bern',\n",
       " 'Lausanne',\n",
       " 'Freiburg',\n",
       " 'Neuenburg',\n",
       " 'Total']"
      ]
     },
     "execution_count": 10,
     "metadata": {},
     "output_type": "execute_result"
    }
   ],
   "source": [
    "colonnes = my_list[0]\n",
    "colonnes"
   ]
  },
  {
   "cell_type": "markdown",
   "id": "5a5b1616-6921-4c1e-b6e7-8abf7740e075",
   "metadata": {},
   "source": [
    "### Renommer les colonnes pour éviter les répétitions de noms de colonnes\n"
   ]
  },
  {
   "cell_type": "code",
   "execution_count": 11,
   "id": "ee37d1c6-d30f-4b31-9514-77d21ec1d1c5",
   "metadata": {
    "tags": []
   },
   "outputs": [
    {
     "data": {
      "text/plain": [
       "['Année',\n",
       " 'Zürich',\n",
       " 'Basel',\n",
       " 'Genf',\n",
       " 'Bern',\n",
       " 'Lausanne',\n",
       " 'Freiburg',\n",
       " 'Neuenburg',\n",
       " 'Total',\n",
       " 'Zurich_f',\n",
       " 'Bâle_f',\n",
       " 'Genève_f',\n",
       " 'Berne_f',\n",
       " 'Lausanne_f',\n",
       " 'Fribourg_f',\n",
       " 'Neuchâtel_f',\n",
       " 'Total_f',\n",
       " 'Zürich_e',\n",
       " 'Basel_e',\n",
       " 'Genf_e',\n",
       " 'Bern_e',\n",
       " 'Lausanne_e',\n",
       " 'Freiburg_e',\n",
       " 'Neuenburg_e',\n",
       " 'Total_e']"
      ]
     },
     "execution_count": 11,
     "metadata": {},
     "output_type": "execute_result"
    }
   ],
   "source": [
    "# Documentation Cf. le livre Python pour les SHS, 2.7.1 et 2.7.2\n",
    "nouvelles_colonnes = []\n",
    "i = 1\n",
    "for e in colonnes:\n",
    "    if i < 10:\n",
    "        nouvelles_colonnes.append(e)\n",
    "    if i >= 10 and i <= 17:\n",
    "        nouvelles_colonnes.append(e + '_f')\n",
    "    if i > 17:\n",
    "        nouvelles_colonnes.append(e + '_e')\n",
    "    i += 1\n",
    "nouvelles_colonnes    "
   ]
  },
  {
   "cell_type": "code",
   "execution_count": 12,
   "id": "7964bc92-72ce-4cce-99ac-6ad9fce1d7d3",
   "metadata": {},
   "outputs": [],
   "source": [
    "### Ecrire un nouveau fichier avec les nouveaux \n",
    "file_1 = 'donnees/etudiantes_universites_suisses_v1.csv'"
   ]
  },
  {
   "cell_type": "code",
   "execution_count": 13,
   "id": "d90f06b4-8584-4196-8584-d20fa5568880",
   "metadata": {},
   "outputs": [],
   "source": [
    "### Documentation : \n",
    "#  https://docs.python.org/3.9/library/csv.html#module-contents\n",
    "with open(file_1, 'w') as f:\n",
    "    fw = csv.writer(f, delimiter='\\t')\n",
    "    fw.writerow(nouvelles_colonnes)\n",
    "    for r in my_list[1:]:\n",
    "        fw.writerow(r)"
   ]
  },
  {
   "cell_type": "markdown",
   "id": "dea2b88e-2f15-4d52-86e8-b4b543557add",
   "metadata": {},
   "source": [
    "### Ouvrir le nouveau fichier sous forme de dictionnaire\n",
    "\n",
    "Inspecter ensuite son contenu et le comparer au fichier précédent"
   ]
  },
  {
   "cell_type": "code",
   "execution_count": 14,
   "id": "e852d692-94ca-4d4b-97c0-a29a3af94b25",
   "metadata": {},
   "outputs": [
    {
     "name": "stdout",
     "output_type": "stream",
     "text": [
      "<class 'csv.DictReader'>\n"
     ]
    }
   ],
   "source": [
    "# créer une liste vide\n",
    "result_file = []\n",
    "\n",
    "with open(file_1, 'r') as data:\n",
    "      a = csv.DictReader(data, delimiter='\\t')\n",
    "      print(type(a))\n",
    "      b = list(a)  "
   ]
  },
  {
   "cell_type": "code",
   "execution_count": 15,
   "id": "25a54d77-8944-491f-87a9-ccdcc4fc35cc",
   "metadata": {
    "scrolled": true,
    "tags": []
   },
   "outputs": [
    {
     "data": {
      "text/plain": [
       "(100,\n",
       " {'Année': '1891/92',\n",
       "  'Zürich': '543',\n",
       "  'Basel': '401',\n",
       "  'Genf': '536',\n",
       "  'Bern': '534',\n",
       "  'Lausanne': '289',\n",
       "  'Freiburg': '168',\n",
       "  'Neuenburg': '60',\n",
       "  'Total': '2531',\n",
       "  'Zurich_f': '67',\n",
       "  'Bâle_f': '1',\n",
       "  'Genève_f': '89',\n",
       "  'Berne_f': '80',\n",
       "  'Lausanne_f': '5',\n",
       "  'Fribourg_f': '0',\n",
       "  'Neuchâtel_f': '0',\n",
       "  'Total_f': '242',\n",
       "  'Zürich_e': '192',\n",
       "  'Basel_e': '75',\n",
       "  'Genf_e': '347',\n",
       "  'Bern_e': '126',\n",
       "  'Lausanne_e': '89',\n",
       "  'Freiburg_e': '56',\n",
       "  'Neuenburg_e': '1',\n",
       "  'Total_e': '886'})"
      ]
     },
     "execution_count": 15,
     "metadata": {},
     "output_type": "execute_result"
    }
   ],
   "source": [
    "len(b),b[0]"
   ]
  },
  {
   "cell_type": "code",
   "execution_count": 16,
   "id": "7b867771-53f8-46cc-bd30-6059782cacea",
   "metadata": {
    "scrolled": true,
    "tags": []
   },
   "outputs": [
    {
     "name": "stdout",
     "output_type": "stream",
     "text": [
      "1891/92\n",
      "1892/93\n",
      "1893/94\n",
      "1894/95\n",
      "1895/96\n",
      "1896/97\n",
      "1897/98\n",
      "1898/99\n",
      "1899/00\n",
      "1900/01\n",
      "1901/02\n",
      "1902/03\n",
      "1903/04\n",
      "1904/05\n",
      "1905/06\n",
      "1906/07\n",
      "1907/08\n",
      "1908/09\n",
      "1909/10\n",
      "1910/11\n",
      "1911/12\n",
      "1912/13\n",
      "1913/14\n",
      "1914/15\n",
      "1915/16\n",
      "1916/17\n",
      "1917/18\n",
      "1918/19\n",
      "1919/20\n",
      "1920/21\n",
      "1921/22\n",
      "1922/23\n",
      "1923/24\n",
      "1924/25\n",
      "1925/26\n",
      "1926/27\n",
      "1927/28\n",
      "1928/29\n",
      "1929/30\n",
      "1930/31\n",
      "1931/32\n",
      "1932/33\n",
      "1933/34\n",
      "1934/35\n",
      "1935/36\n",
      "1936/37\n",
      "1937/38\n",
      "1938/39\n",
      "1939/40\n",
      "1940/41\n",
      "1941/42\n",
      "1942/43\n",
      "1943/44\n",
      "1944/45\n",
      "1945/46\n",
      "1946/47\n",
      "1947/48\n",
      "1948/49\n",
      "1949/50\n",
      "1950/51\n",
      "1951/52\n",
      "1952/53\n",
      "1953/54\n",
      "1954/55\n",
      "1955/56\n",
      "1956/57\n",
      "1957/58\n",
      "1958/59\n",
      "1959/60\n",
      "1960/61\n",
      "1961/62\n",
      "1962/63\n",
      "1963/64\n",
      "1964/65\n",
      "1965/66\n",
      "1966/67\n",
      "1967/68\n",
      "1968/69\n",
      "1969/70\n",
      "1970/71\n",
      "1971/72\n",
      "1972/73\n",
      "1973/74\n",
      "1974/75\n",
      "1975/76\n",
      "1976/77\n",
      "1977/78\n",
      "1978/79\n",
      "1979/80\n",
      "1980/81\n",
      "1981/82\n",
      "1982/83\n",
      "1983/84\n",
      "1984/85\n",
      "1985/86\n",
      "1986/87\n",
      "1987/88\n",
      "1988/89\n",
      "1989/90\n",
      "1990/91\n"
     ]
    }
   ],
   "source": [
    "for l in b:\n",
    "    print(l['Année'])"
   ]
  },
  {
   "cell_type": "code",
   "execution_count": 17,
   "id": "52b707e9-d5e4-46b9-ae9e-9ca82cc1f7b2",
   "metadata": {},
   "outputs": [
    {
     "name": "stdout",
     "output_type": "stream",
     "text": [
      "{'Année': '1915/16', 'Zürich': '1798', 'Basel': '980', 'Genf': '1027', 'Bern': '1447', 'Lausanne': '957', 'Freiburg': '461', 'Neuenburg': '217', 'Total': '6887', 'Zurich_f': '203', 'Bâle_f': '52', 'Genève_f': '225', 'Berne_f': '126', 'Lausanne_f': '114', 'Fribourg_f': '28', 'Neuchâtel_f': '64', 'Total_f': '812', 'Zürich_e': '513', 'Basel_e': '252', 'Genf_e': '649', 'Bern_e': '257', 'Lausanne_e': '474', 'Freiburg_e': '225', 'Neuenburg_e': '34', 'Total_e': '2404'}\n"
     ]
    }
   ],
   "source": [
    "for r in b:\n",
    "    if r['Année'] == '1915/16':\n",
    "        print(r)"
   ]
  },
  {
   "cell_type": "markdown",
   "id": "a518db94-42a9-4af5-b419-2364557363a2",
   "metadata": {},
   "source": [
    "### Ajouter une colonne avec le total des hommes"
   ]
  },
  {
   "cell_type": "code",
   "execution_count": 18,
   "id": "1b4f825a-f29e-41c7-8687-c207217860b1",
   "metadata": {},
   "outputs": [
    {
     "data": {
      "text/plain": [
       "{'Année': '1891/92',\n",
       " 'Zürich': '543',\n",
       " 'Basel': '401',\n",
       " 'Genf': '536',\n",
       " 'Bern': '534',\n",
       " 'Lausanne': '289',\n",
       " 'Freiburg': '168',\n",
       " 'Neuenburg': '60',\n",
       " 'Total': '2531',\n",
       " 'Zurich_f': '67',\n",
       " 'Bâle_f': '1',\n",
       " 'Genève_f': '89',\n",
       " 'Berne_f': '80',\n",
       " 'Lausanne_f': '5',\n",
       " 'Fribourg_f': '0',\n",
       " 'Neuchâtel_f': '0',\n",
       " 'Total_f': '242',\n",
       " 'Zürich_e': '192',\n",
       " 'Basel_e': '75',\n",
       " 'Genf_e': '347',\n",
       " 'Bern_e': '126',\n",
       " 'Lausanne_e': '89',\n",
       " 'Freiburg_e': '56',\n",
       " 'Neuenburg_e': '1',\n",
       " 'Total_e': '886',\n",
       " 'Total_h': 2289}"
      ]
     },
     "execution_count": 18,
     "metadata": {},
     "output_type": "execute_result"
    }
   ],
   "source": [
    "### Documentation:\n",
    "#  https://docs.python.org/3.9/tutorial/datastructures.html#dictionaries\n",
    "for r in b:\n",
    "    r['Total_h'] = int(r['Total']) - int(r['Total_f'])\n",
    "b[0]"
   ]
  },
  {
   "cell_type": "markdown",
   "id": "1b0ae743-f744-42c9-b9be-3a6a78932fa4",
   "metadata": {},
   "source": [
    "### Ajouter une colonne avec le total des suisses\n",
    "\n",
    "Procéder de la même manière que par rapport aux femmes mais en partant cette fois de la colonne du total des étudiant·e·s étrangers·ères"
   ]
  },
  {
   "cell_type": "code",
   "execution_count": null,
   "id": "22b53d06-7ce4-4505-9902-e421f4573e30",
   "metadata": {},
   "outputs": [],
   "source": []
  }
 ],
 "metadata": {
  "kernelspec": {
   "display_name": "Python 3 (ipykernel)",
   "language": "python",
   "name": "python3"
  },
  "language_info": {
   "codemirror_mode": {
    "name": "ipython",
    "version": 3
   },
   "file_extension": ".py",
   "mimetype": "text/x-python",
   "name": "python",
   "nbconvert_exporter": "python",
   "pygments_lexer": "ipython3",
   "version": "3.10.2"
  }
 },
 "nbformat": 4,
 "nbformat_minor": 5
}
