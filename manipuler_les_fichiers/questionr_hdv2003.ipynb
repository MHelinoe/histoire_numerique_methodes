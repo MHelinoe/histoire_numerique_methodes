{
 "cells": [
  {
   "cell_type": "code",
   "execution_count": 1,
   "id": "13ae4ef3-2039-4464-b660-9dca3de41113",
   "metadata": {},
   "outputs": [],
   "source": [
    "library(questionr)"
   ]
  },
  {
   "cell_type": "code",
   "execution_count": 2,
   "id": "bf3ce2d8-1a9d-470f-8a06-86d31aaf38f7",
   "metadata": {},
   "outputs": [],
   "source": [
    "data(hdv2003)"
   ]
  },
  {
   "cell_type": "code",
   "execution_count": 3,
   "id": "ed14adea-9c20-40e7-8679-eb0bde6bb93a",
   "metadata": {},
   "outputs": [],
   "source": [
    "d <- hdv2003"
   ]
  },
  {
   "cell_type": "code",
   "execution_count": 4,
   "id": "ec984b5c-ac55-42fe-8a21-6019b6fceb78",
   "metadata": {},
   "outputs": [
    {
     "data": {
      "text/html": [
       "<style>\n",
       ".list-inline {list-style: none; margin:0; padding: 0}\n",
       ".list-inline>li {display: inline-block}\n",
       ".list-inline>li:not(:last-child)::after {content: \"\\00b7\"; padding: 0 .5ex}\n",
       "</style>\n",
       "<ol class=list-inline><li>'id'</li><li>'age'</li><li>'sexe'</li><li>'nivetud'</li><li>'poids'</li><li>'occup'</li><li>'qualif'</li><li>'freres.soeurs'</li><li>'clso'</li><li>'relig'</li><li>'trav.imp'</li><li>'trav.satisf'</li><li>'hard.rock'</li><li>'lecture.bd'</li><li>'peche.chasse'</li><li>'cuisine'</li><li>'bricol'</li><li>'cinema'</li><li>'sport'</li><li>'heures.tv'</li></ol>\n"
      ],
      "text/latex": [
       "\\begin{enumerate*}\n",
       "\\item 'id'\n",
       "\\item 'age'\n",
       "\\item 'sexe'\n",
       "\\item 'nivetud'\n",
       "\\item 'poids'\n",
       "\\item 'occup'\n",
       "\\item 'qualif'\n",
       "\\item 'freres.soeurs'\n",
       "\\item 'clso'\n",
       "\\item 'relig'\n",
       "\\item 'trav.imp'\n",
       "\\item 'trav.satisf'\n",
       "\\item 'hard.rock'\n",
       "\\item 'lecture.bd'\n",
       "\\item 'peche.chasse'\n",
       "\\item 'cuisine'\n",
       "\\item 'bricol'\n",
       "\\item 'cinema'\n",
       "\\item 'sport'\n",
       "\\item 'heures.tv'\n",
       "\\end{enumerate*}\n"
      ],
      "text/markdown": [
       "1. 'id'\n",
       "2. 'age'\n",
       "3. 'sexe'\n",
       "4. 'nivetud'\n",
       "5. 'poids'\n",
       "6. 'occup'\n",
       "7. 'qualif'\n",
       "8. 'freres.soeurs'\n",
       "9. 'clso'\n",
       "10. 'relig'\n",
       "11. 'trav.imp'\n",
       "12. 'trav.satisf'\n",
       "13. 'hard.rock'\n",
       "14. 'lecture.bd'\n",
       "15. 'peche.chasse'\n",
       "16. 'cuisine'\n",
       "17. 'bricol'\n",
       "18. 'cinema'\n",
       "19. 'sport'\n",
       "20. 'heures.tv'\n",
       "\n",
       "\n"
      ],
      "text/plain": [
       " [1] \"id\"            \"age\"           \"sexe\"          \"nivetud\"      \n",
       " [5] \"poids\"         \"occup\"         \"qualif\"        \"freres.soeurs\"\n",
       " [9] \"clso\"          \"relig\"         \"trav.imp\"      \"trav.satisf\"  \n",
       "[13] \"hard.rock\"     \"lecture.bd\"    \"peche.chasse\"  \"cuisine\"      \n",
       "[17] \"bricol\"        \"cinema\"        \"sport\"         \"heures.tv\"    "
      ]
     },
     "metadata": {},
     "output_type": "display_data"
    }
   ],
   "source": [
    "names(d)"
   ]
  },
  {
   "cell_type": "code",
   "execution_count": 5,
   "id": "856003f6-cfdb-4a30-a78e-18d3cdc03c51",
   "metadata": {},
   "outputs": [
    {
     "name": "stdout",
     "output_type": "stream",
     "text": [
      "'data.frame':\t2000 obs. of  20 variables:\n",
      " $ id           : int  1 2 3 4 5 6 7 8 9 10 ...\n",
      " $ age          : int  28 23 59 34 71 35 60 47 20 28 ...\n",
      " $ sexe         : Factor w/ 2 levels \"Homme\",\"Femme\": 2 2 1 1 2 2 2 1 2 1 ...\n",
      " $ nivetud      : Factor w/ 8 levels \"N'a jamais fait d'etudes\",..: 8 NA 3 8 3 6 3 6 NA 7 ...\n",
      " $ poids        : num  2634 9738 3994 5732 4329 ...\n",
      " $ occup        : Factor w/ 7 levels \"Exerce une profession\",..: 1 3 1 1 4 1 6 1 3 1 ...\n",
      " $ qualif       : Factor w/ 7 levels \"Ouvrier specialise\",..: 6 NA 3 3 6 6 2 2 NA 7 ...\n",
      " $ freres.soeurs: int  8 2 2 1 0 5 1 5 4 2 ...\n",
      " $ clso         : Factor w/ 3 levels \"Oui\",\"Non\",\"Ne sait pas\": 1 1 2 2 1 2 1 2 1 2 ...\n",
      " $ relig        : Factor w/ 6 levels \"Pratiquant regulier\",..: 4 4 4 3 1 4 3 4 3 2 ...\n",
      " $ trav.imp     : Factor w/ 4 levels \"Le plus important\",..: 4 NA 2 3 NA 1 NA 4 NA 3 ...\n",
      " $ trav.satisf  : Factor w/ 3 levels \"Satisfaction\",..: 2 NA 3 1 NA 3 NA 2 NA 1 ...\n",
      " $ hard.rock    : Factor w/ 2 levels \"Non\",\"Oui\": 1 1 1 1 1 1 1 1 1 1 ...\n",
      " $ lecture.bd   : Factor w/ 2 levels \"Non\",\"Oui\": 1 1 1 1 1 1 1 1 1 1 ...\n",
      " $ peche.chasse : Factor w/ 2 levels \"Non\",\"Oui\": 1 1 1 1 1 1 2 2 1 1 ...\n",
      " $ cuisine      : Factor w/ 2 levels \"Non\",\"Oui\": 2 1 1 2 1 1 2 2 1 1 ...\n",
      " $ bricol       : Factor w/ 2 levels \"Non\",\"Oui\": 1 1 1 2 1 1 1 2 1 1 ...\n",
      " $ cinema       : Factor w/ 2 levels \"Non\",\"Oui\": 1 2 1 2 1 2 1 1 2 2 ...\n",
      " $ sport        : Factor w/ 2 levels \"Non\",\"Oui\": 1 2 2 2 1 2 1 1 1 2 ...\n",
      " $ heures.tv    : num  0 1 0 2 3 2 2.9 1 2 2 ...\n"
     ]
    }
   ],
   "source": [
    "str(d)"
   ]
  },
  {
   "cell_type": "code",
   "execution_count": 7,
   "id": "806925ff-03aa-4055-98e9-c0b179f65408",
   "metadata": {},
   "outputs": [],
   "source": [
    "###  How to Export DataFrame to CSV in R  (July 16, 2021)\n",
    "# https://datatofish.com/export-dataframe-to-csv-in-r/\n",
    "write.csv(d, 'donnees/hdv2003.csv', row.names = FALSE)"
   ]
  },
  {
   "cell_type": "code",
   "execution_count": 12,
   "id": "7f05471a-dac4-41ed-a491-71aa5435490c",
   "metadata": {},
   "outputs": [
    {
     "data": {
      "text/html": [
       "<table class=\"dataframe\">\n",
       "<caption>A data.frame: 6 × 20</caption>\n",
       "<thead>\n",
       "\t<tr><th></th><th scope=col>id</th><th scope=col>age</th><th scope=col>sexe</th><th scope=col>nivetud</th><th scope=col>poids</th><th scope=col>occup</th><th scope=col>qualif</th><th scope=col>freres.soeurs</th><th scope=col>clso</th><th scope=col>relig</th><th scope=col>trav.imp</th><th scope=col>trav.satisf</th><th scope=col>hard.rock</th><th scope=col>lecture.bd</th><th scope=col>peche.chasse</th><th scope=col>cuisine</th><th scope=col>bricol</th><th scope=col>cinema</th><th scope=col>sport</th><th scope=col>heures.tv</th></tr>\n",
       "\t<tr><th></th><th scope=col>&lt;int&gt;</th><th scope=col>&lt;int&gt;</th><th scope=col>&lt;fct&gt;</th><th scope=col>&lt;fct&gt;</th><th scope=col>&lt;dbl&gt;</th><th scope=col>&lt;fct&gt;</th><th scope=col>&lt;fct&gt;</th><th scope=col>&lt;int&gt;</th><th scope=col>&lt;fct&gt;</th><th scope=col>&lt;fct&gt;</th><th scope=col>&lt;fct&gt;</th><th scope=col>&lt;fct&gt;</th><th scope=col>&lt;fct&gt;</th><th scope=col>&lt;fct&gt;</th><th scope=col>&lt;fct&gt;</th><th scope=col>&lt;fct&gt;</th><th scope=col>&lt;fct&gt;</th><th scope=col>&lt;fct&gt;</th><th scope=col>&lt;fct&gt;</th><th scope=col>&lt;dbl&gt;</th></tr>\n",
       "</thead>\n",
       "<tbody>\n",
       "\t<tr><th scope=row>1</th><td>1</td><td>28</td><td>Femme</td><td>Enseignement superieur y compris technique superieur</td><td>2634.398</td><td>Exerce une profession</td><td>Employe   </td><td>8</td><td>Oui</td><td>Ni croyance ni appartenance</td><td>Peu important               </td><td>Insatisfaction</td><td>Non</td><td>Non</td><td>Non</td><td>Oui</td><td>Non</td><td>Non</td><td>Non</td><td>0</td></tr>\n",
       "\t<tr><th scope=row>2</th><td>2</td><td>23</td><td>Femme</td><td>NA                                                  </td><td>9738.396</td><td>Etudiant, eleve      </td><td>NA        </td><td>2</td><td>Oui</td><td>Ni croyance ni appartenance</td><td>NA                          </td><td>NA            </td><td>Non</td><td>Non</td><td>Non</td><td>Non</td><td>Non</td><td>Oui</td><td>Oui</td><td>1</td></tr>\n",
       "\t<tr><th scope=row>3</th><td>3</td><td>59</td><td>Homme</td><td>Derniere annee d'etudes primaires                   </td><td>3994.102</td><td>Exerce une profession</td><td>Technicien</td><td>2</td><td>Non</td><td>Ni croyance ni appartenance</td><td>Aussi important que le reste</td><td>Equilibre     </td><td>Non</td><td>Non</td><td>Non</td><td>Non</td><td>Non</td><td>Non</td><td>Oui</td><td>0</td></tr>\n",
       "\t<tr><th scope=row>4</th><td>4</td><td>34</td><td>Homme</td><td>Enseignement superieur y compris technique superieur</td><td>5731.662</td><td>Exerce une profession</td><td>Technicien</td><td>1</td><td>Non</td><td>Appartenance sans pratique </td><td>Moins important que le reste</td><td>Satisfaction  </td><td>Non</td><td>Non</td><td>Non</td><td>Oui</td><td>Oui</td><td>Oui</td><td>Oui</td><td>2</td></tr>\n",
       "\t<tr><th scope=row>5</th><td>5</td><td>71</td><td>Femme</td><td>Derniere annee d'etudes primaires                   </td><td>4329.094</td><td>Retraite             </td><td>Employe   </td><td>0</td><td>Oui</td><td>Pratiquant regulier        </td><td>NA                          </td><td>NA            </td><td>Non</td><td>Non</td><td>Non</td><td>Non</td><td>Non</td><td>Non</td><td>Non</td><td>3</td></tr>\n",
       "\t<tr><th scope=row>6</th><td>6</td><td>35</td><td>Femme</td><td>Enseignement technique ou professionnel court       </td><td>8674.699</td><td>Exerce une profession</td><td>Employe   </td><td>5</td><td>Non</td><td>Ni croyance ni appartenance</td><td>Le plus important           </td><td>Equilibre     </td><td>Non</td><td>Non</td><td>Non</td><td>Non</td><td>Non</td><td>Oui</td><td>Oui</td><td>2</td></tr>\n",
       "</tbody>\n",
       "</table>\n"
      ],
      "text/latex": [
       "A data.frame: 6 × 20\n",
       "\\begin{tabular}{r|llllllllllllllllllll}\n",
       "  & id & age & sexe & nivetud & poids & occup & qualif & freres.soeurs & clso & relig & trav.imp & trav.satisf & hard.rock & lecture.bd & peche.chasse & cuisine & bricol & cinema & sport & heures.tv\\\\\n",
       "  & <int> & <int> & <fct> & <fct> & <dbl> & <fct> & <fct> & <int> & <fct> & <fct> & <fct> & <fct> & <fct> & <fct> & <fct> & <fct> & <fct> & <fct> & <fct> & <dbl>\\\\\n",
       "\\hline\n",
       "\t1 & 1 & 28 & Femme & Enseignement superieur y compris technique superieur & 2634.398 & Exerce une profession & Employe    & 8 & Oui & Ni croyance ni appartenance & Peu important                & Insatisfaction & Non & Non & Non & Oui & Non & Non & Non & 0\\\\\n",
       "\t2 & 2 & 23 & Femme & NA                                                   & 9738.396 & Etudiant, eleve       & NA         & 2 & Oui & Ni croyance ni appartenance & NA                           & NA             & Non & Non & Non & Non & Non & Oui & Oui & 1\\\\\n",
       "\t3 & 3 & 59 & Homme & Derniere annee d'etudes primaires                    & 3994.102 & Exerce une profession & Technicien & 2 & Non & Ni croyance ni appartenance & Aussi important que le reste & Equilibre      & Non & Non & Non & Non & Non & Non & Oui & 0\\\\\n",
       "\t4 & 4 & 34 & Homme & Enseignement superieur y compris technique superieur & 5731.662 & Exerce une profession & Technicien & 1 & Non & Appartenance sans pratique  & Moins important que le reste & Satisfaction   & Non & Non & Non & Oui & Oui & Oui & Oui & 2\\\\\n",
       "\t5 & 5 & 71 & Femme & Derniere annee d'etudes primaires                    & 4329.094 & Retraite              & Employe    & 0 & Oui & Pratiquant regulier         & NA                           & NA             & Non & Non & Non & Non & Non & Non & Non & 3\\\\\n",
       "\t6 & 6 & 35 & Femme & Enseignement technique ou professionnel court        & 8674.699 & Exerce une profession & Employe    & 5 & Non & Ni croyance ni appartenance & Le plus important            & Equilibre      & Non & Non & Non & Non & Non & Oui & Oui & 2\\\\\n",
       "\\end{tabular}\n"
      ],
      "text/markdown": [
       "\n",
       "A data.frame: 6 × 20\n",
       "\n",
       "| <!--/--> | id &lt;int&gt; | age &lt;int&gt; | sexe &lt;fct&gt; | nivetud &lt;fct&gt; | poids &lt;dbl&gt; | occup &lt;fct&gt; | qualif &lt;fct&gt; | freres.soeurs &lt;int&gt; | clso &lt;fct&gt; | relig &lt;fct&gt; | trav.imp &lt;fct&gt; | trav.satisf &lt;fct&gt; | hard.rock &lt;fct&gt; | lecture.bd &lt;fct&gt; | peche.chasse &lt;fct&gt; | cuisine &lt;fct&gt; | bricol &lt;fct&gt; | cinema &lt;fct&gt; | sport &lt;fct&gt; | heures.tv &lt;dbl&gt; |\n",
       "|---|---|---|---|---|---|---|---|---|---|---|---|---|---|---|---|---|---|---|---|---|\n",
       "| 1 | 1 | 28 | Femme | Enseignement superieur y compris technique superieur | 2634.398 | Exerce une profession | Employe    | 8 | Oui | Ni croyance ni appartenance | Peu important                | Insatisfaction | Non | Non | Non | Oui | Non | Non | Non | 0 |\n",
       "| 2 | 2 | 23 | Femme | NA                                                   | 9738.396 | Etudiant, eleve       | NA         | 2 | Oui | Ni croyance ni appartenance | NA                           | NA             | Non | Non | Non | Non | Non | Oui | Oui | 1 |\n",
       "| 3 | 3 | 59 | Homme | Derniere annee d'etudes primaires                    | 3994.102 | Exerce une profession | Technicien | 2 | Non | Ni croyance ni appartenance | Aussi important que le reste | Equilibre      | Non | Non | Non | Non | Non | Non | Oui | 0 |\n",
       "| 4 | 4 | 34 | Homme | Enseignement superieur y compris technique superieur | 5731.662 | Exerce une profession | Technicien | 1 | Non | Appartenance sans pratique  | Moins important que le reste | Satisfaction   | Non | Non | Non | Oui | Oui | Oui | Oui | 2 |\n",
       "| 5 | 5 | 71 | Femme | Derniere annee d'etudes primaires                    | 4329.094 | Retraite              | Employe    | 0 | Oui | Pratiquant regulier         | NA                           | NA             | Non | Non | Non | Non | Non | Non | Non | 3 |\n",
       "| 6 | 6 | 35 | Femme | Enseignement technique ou professionnel court        | 8674.699 | Exerce une profession | Employe    | 5 | Non | Ni croyance ni appartenance | Le plus important            | Equilibre      | Non | Non | Non | Non | Non | Oui | Oui | 2 |\n",
       "\n"
      ],
      "text/plain": [
       "  id age sexe  nivetud                                              poids   \n",
       "1 1  28  Femme Enseignement superieur y compris technique superieur 2634.398\n",
       "2 2  23  Femme NA                                                   9738.396\n",
       "3 3  59  Homme Derniere annee d'etudes primaires                    3994.102\n",
       "4 4  34  Homme Enseignement superieur y compris technique superieur 5731.662\n",
       "5 5  71  Femme Derniere annee d'etudes primaires                    4329.094\n",
       "6 6  35  Femme Enseignement technique ou professionnel court        8674.699\n",
       "  occup                 qualif     freres.soeurs clso\n",
       "1 Exerce une profession Employe    8             Oui \n",
       "2 Etudiant, eleve       NA         2             Oui \n",
       "3 Exerce une profession Technicien 2             Non \n",
       "4 Exerce une profession Technicien 1             Non \n",
       "5 Retraite              Employe    0             Oui \n",
       "6 Exerce une profession Employe    5             Non \n",
       "  relig                       trav.imp                     trav.satisf   \n",
       "1 Ni croyance ni appartenance Peu important                Insatisfaction\n",
       "2 Ni croyance ni appartenance NA                           NA            \n",
       "3 Ni croyance ni appartenance Aussi important que le reste Equilibre     \n",
       "4 Appartenance sans pratique  Moins important que le reste Satisfaction  \n",
       "5 Pratiquant regulier         NA                           NA            \n",
       "6 Ni croyance ni appartenance Le plus important            Equilibre     \n",
       "  hard.rock lecture.bd peche.chasse cuisine bricol cinema sport heures.tv\n",
       "1 Non       Non        Non          Oui     Non    Non    Non   0        \n",
       "2 Non       Non        Non          Non     Non    Oui    Oui   1        \n",
       "3 Non       Non        Non          Non     Non    Non    Oui   0        \n",
       "4 Non       Non        Non          Oui     Oui    Oui    Oui   2        \n",
       "5 Non       Non        Non          Non     Non    Non    Non   3        \n",
       "6 Non       Non        Non          Non     Non    Oui    Oui   2        "
      ]
     },
     "metadata": {},
     "output_type": "display_data"
    }
   ],
   "source": [
    "head(d)"
   ]
  },
  {
   "cell_type": "code",
   "execution_count": null,
   "id": "6f547c15-f9db-4ccf-a61b-68c92eb3fcf1",
   "metadata": {},
   "outputs": [],
   "source": []
  }
 ],
 "metadata": {
  "kernelspec": {
   "display_name": "R [conda env:r_surveys_barnier]",
   "language": "R",
   "name": "conda-env-r_surveys_barnier-r"
  },
  "language_info": {
   "codemirror_mode": "r",
   "file_extension": ".r",
   "mimetype": "text/x-r-source",
   "name": "R",
   "pygments_lexer": "r",
   "version": "4.1.2"
  }
 },
 "nbformat": 4,
 "nbformat_minor": 5
}
