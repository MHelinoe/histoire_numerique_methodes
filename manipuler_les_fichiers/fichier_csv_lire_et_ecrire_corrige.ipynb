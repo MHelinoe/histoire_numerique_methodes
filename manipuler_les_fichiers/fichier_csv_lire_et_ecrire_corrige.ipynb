{
 "cells": [
  {
   "cell_type": "markdown",
   "id": "6d54e091-8d60-4618-a918-42e45042737a",
   "metadata": {},
   "source": [
    "# Exercice corrigé: Ajouter une colonne avec les effectifs des étudiants suisses\n",
    "\n",
    "\n",
    "Version du 3 avril 2022\n"
   ]
  },
  {
   "cell_type": "markdown",
   "id": "1129d5b8-199d-4468-8b07-d7850ed22678",
   "metadata": {},
   "source": [
    "## Ouverture et exploration du fichier\n",
    "\n",
    "Ouvrir le carnet contenant la colonne ajoutées des étudiants hommes"
   ]
  },
  {
   "cell_type": "code",
   "execution_count": 5,
   "id": "445a51f4-812d-4f4c-acf9-ab3fb7207081",
   "metadata": {},
   "outputs": [],
   "source": [
    "import csv"
   ]
  },
  {
   "cell_type": "code",
   "execution_count": 12,
   "id": "7e356a9b-a13d-4085-9ed7-03b3be10f484",
   "metadata": {},
   "outputs": [
    {
     "data": {
      "text/plain": [
       "(100,\n",
       " {'Année': '1891/92',\n",
       "  'Zürich': '543',\n",
       "  'Basel': '401',\n",
       "  'Genf': '536',\n",
       "  'Bern': '534',\n",
       "  'Lausanne': '289',\n",
       "  'Freiburg': '168',\n",
       "  'Neuenburg': '60',\n",
       "  'Total': '2531',\n",
       "  'Zurich_f': '67',\n",
       "  'Bâle_f': '1',\n",
       "  'Genève_f': '89',\n",
       "  'Berne_f': '80',\n",
       "  'Lausanne_f': '5',\n",
       "  'Fribourg_f': '0',\n",
       "  'Neuchâtel_f': '0',\n",
       "  'Total_f': '242',\n",
       "  'Zürich_e': '192',\n",
       "  'Basel_e': '75',\n",
       "  'Genf_e': '347',\n",
       "  'Bern_e': '126',\n",
       "  'Lausanne_e': '89',\n",
       "  'Freiburg_e': '56',\n",
       "  'Neuenburg_e': '1',\n",
       "  'Total_e': '886',\n",
       "  'Total_h': '2289'})"
      ]
     },
     "execution_count": 12,
     "metadata": {},
     "output_type": "execute_result"
    }
   ],
   "source": [
    "file = 'donnees/etudiantes_universites_suisses_v2.csv'\n",
    "with open(file, 'r') as data:\n",
    "      a = csv.DictReader(data, delimiter='\\t')\n",
    "      donnees = list(a)\n",
    "len(donnees), d[0]"
   ]
  },
  {
   "cell_type": "code",
   "execution_count": 14,
   "id": "14b6812a-17e5-49a6-bf9f-edcf93c5efc2",
   "metadata": {
    "scrolled": true,
    "tags": []
   },
   "outputs": [
    {
     "data": {
      "text/plain": [
       "['Année',\n",
       " 'Zürich',\n",
       " 'Basel',\n",
       " 'Genf',\n",
       " 'Bern',\n",
       " 'Lausanne',\n",
       " 'Freiburg',\n",
       " 'Neuenburg',\n",
       " 'Total',\n",
       " 'Zurich_f',\n",
       " 'Bâle_f',\n",
       " 'Genève_f',\n",
       " 'Berne_f',\n",
       " 'Lausanne_f',\n",
       " 'Fribourg_f',\n",
       " 'Neuchâtel_f',\n",
       " 'Total_f',\n",
       " 'Zürich_e',\n",
       " 'Basel_e',\n",
       " 'Genf_e',\n",
       " 'Bern_e',\n",
       " 'Lausanne_e',\n",
       " 'Freiburg_e',\n",
       " 'Neuenburg_e',\n",
       " 'Total_e',\n",
       " 'Total_h']"
      ]
     },
     "execution_count": 14,
     "metadata": {},
     "output_type": "execute_result"
    }
   ],
   "source": [
    "colonnes = list(donnees[0].keys())\n",
    "colonnes"
   ]
  },
  {
   "cell_type": "markdown",
   "id": "1b0ae743-f744-42c9-b9be-3a6a78932fa4",
   "metadata": {},
   "source": [
    "## Ajouter une colonne avec les effectifs des étudiants suisses\n",
    "\n",
    "\n",
    "Procéder de la même manière que par rapport aux femmes mais en partant cette fois de la colonne du total des étudiant·e·s étrangers·ères. Ajouter une colonne puis écrire une nouvelle version du fichier contenant cette nouvelle colonne.\n",
    "\n",
    "Attention aux données qui manquent! Il faut un traitement spécial pour cette colonne utilisant une condition \"if\"."
   ]
  },
  {
   "cell_type": "code",
   "execution_count": 15,
   "id": "82cb661e-6c90-4ff4-bdd7-42adc075d264",
   "metadata": {},
   "outputs": [
    {
     "name": "stdout",
     "output_type": "stream",
     "text": [
      "Zürich_e\n",
      "Basel_e\n",
      "Genf_e\n",
      "Bern_e\n",
      "Lausanne_e\n",
      "Freiburg_e\n",
      "Neuenburg_e\n",
      "Total_e\n"
     ]
    }
   ],
   "source": [
    "for e in list(donnees[0].keys()):\n",
    "        if '_e' in e:\n",
    "            print(e)"
   ]
  },
  {
   "cell_type": "code",
   "execution_count": 17,
   "id": "02b36944-3d20-4712-89db-b10dd4de67b2",
   "metadata": {
    "scrolled": true,
    "tags": []
   },
   "outputs": [
    {
     "data": {
      "text/plain": [
       "{'Année': '1891/92',\n",
       " 'Zürich': '543',\n",
       " 'Basel': '401',\n",
       " 'Genf': '536',\n",
       " 'Bern': '534',\n",
       " 'Lausanne': '289',\n",
       " 'Freiburg': '168',\n",
       " 'Neuenburg': '60',\n",
       " 'Total': '2531',\n",
       " 'Zurich_f': '67',\n",
       " 'Bâle_f': '1',\n",
       " 'Genève_f': '89',\n",
       " 'Berne_f': '80',\n",
       " 'Lausanne_f': '5',\n",
       " 'Fribourg_f': '0',\n",
       " 'Neuchâtel_f': '0',\n",
       " 'Total_f': '242',\n",
       " 'Zürich_e': '192',\n",
       " 'Basel_e': '75',\n",
       " 'Genf_e': '347',\n",
       " 'Bern_e': '126',\n",
       " 'Lausanne_e': '89',\n",
       " 'Freiburg_e': '56',\n",
       " 'Neuenburg_e': '1',\n",
       " 'Total_e': '886',\n",
       " 'Total_h': '2289',\n",
       " 'Total_s': 1645}"
      ]
     },
     "execution_count": 17,
     "metadata": {},
     "output_type": "execute_result"
    }
   ],
   "source": [
    "### Données incompètes, stratégie A.:\n",
    "#  restreindre le traitement aux données disponibles\n",
    "for r in donnees:\n",
    "    if r['Année'] < '1986/87':\n",
    "        r['Total_s'] = int(r['Total']) - int(r['Total_e'])\n",
    "donnees[0]"
   ]
  },
  {
   "cell_type": "code",
   "execution_count": 18,
   "id": "534953f1-331d-4a55-9848-c1be332ec744",
   "metadata": {
    "scrolled": true,
    "tags": []
   },
   "outputs": [
    {
     "data": {
      "text/plain": [
       "{'Année': '1988/89',\n",
       " 'Zürich': '20145',\n",
       " 'Basel': '6685',\n",
       " 'Genf': '11500',\n",
       " 'Bern': '9295',\n",
       " 'Lausanne': '10092',\n",
       " 'Freiburg': '5439',\n",
       " 'Neuenburg': '2394',\n",
       " 'Total': '65550',\n",
       " 'Zurich_f': '8445',\n",
       " 'Bâle_f': '2485',\n",
       " 'Genève_f': '5944',\n",
       " 'Berne_f': '3366',\n",
       " 'Lausanne_f': '3612',\n",
       " 'Fribourg_f': '2197',\n",
       " 'Neuchâtel_f': '1067',\n",
       " 'Total_f': '27116',\n",
       " 'Zürich_e': '1986',\n",
       " 'Basel_e': '918',\n",
       " 'Genf_e': '',\n",
       " 'Bern_e': '486',\n",
       " 'Lausanne_e': '',\n",
       " 'Freiburg_e': '1273',\n",
       " 'Neuenburg_e': '',\n",
       " 'Total_e': '',\n",
       " 'Total_h': '38434',\n",
       " 'Total_s': 0}"
      ]
     },
     "execution_count": 18,
     "metadata": {},
     "output_type": "execute_result"
    }
   ],
   "source": [
    "### Données incompètes, stratégie B.:\n",
    "#  remplacer les valeurs absentes par une valeur 0 ou chaîne de caractères vide ('')\n",
    "for r in donnees:\n",
    "    if len(r['Total_e']) > 0:\n",
    "        r['Total_s'] = int(r['Total']) - int(r['Total_e'])\n",
    "    else:\n",
    "        r['Total_s'] = 0\n",
    "donnees[-3]"
   ]
  },
  {
   "cell_type": "code",
   "execution_count": 22,
   "id": "02af1eb7-c77d-4a9b-85b1-69c6fa754256",
   "metadata": {},
   "outputs": [],
   "source": [
    "### Ecrire un nouveau fichier avec les nouveaux \n",
    "file_3 = 'donnees/etudiantes_universites_suisses_v3.csv'"
   ]
  },
  {
   "cell_type": "code",
   "execution_count": 23,
   "id": "2b2c2234-69db-4670-8ed4-3fd48cc34615",
   "metadata": {},
   "outputs": [
    {
     "data": {
      "text/plain": [
       "['Freiburg_e', 'Neuenburg_e', 'Total_e', 'Total_h', 'Total_s']"
      ]
     },
     "execution_count": 23,
     "metadata": {},
     "output_type": "execute_result"
    }
   ],
   "source": [
    "colonnes = list(donnees[0].keys())\n",
    "colonnes[-5:]"
   ]
  },
  {
   "cell_type": "code",
   "execution_count": 24,
   "id": "790004c0-a9b6-4ccc-9c8c-64f8afa76522",
   "metadata": {},
   "outputs": [],
   "source": [
    "### Documentation : \n",
    "#  https://docs.python.org/3/library/csv.html#csv.DictWriter\n",
    "with open(file_3, 'w') as f:\n",
    "    fw = csv.DictWriter(f, fieldnames=colonnes,delimiter='\\t')\n",
    "    \n",
    "    fw.writeheader()\n",
    "    for r in d:\n",
    "        fw.writerow(r)"
   ]
  },
  {
   "cell_type": "code",
   "execution_count": 25,
   "id": "1b0945ae-1ea4-4acc-8716-ee293898f02b",
   "metadata": {},
   "outputs": [
    {
     "data": {
      "text/plain": [
       "(100,\n",
       " {'Année': '1891/92',\n",
       "  'Zürich': '543',\n",
       "  'Basel': '401',\n",
       "  'Genf': '536',\n",
       "  'Bern': '534',\n",
       "  'Lausanne': '289',\n",
       "  'Freiburg': '168',\n",
       "  'Neuenburg': '60',\n",
       "  'Total': '2531',\n",
       "  'Zurich_f': '67',\n",
       "  'Bâle_f': '1',\n",
       "  'Genève_f': '89',\n",
       "  'Berne_f': '80',\n",
       "  'Lausanne_f': '5',\n",
       "  'Fribourg_f': '0',\n",
       "  'Neuchâtel_f': '0',\n",
       "  'Total_f': '242',\n",
       "  'Zürich_e': '192',\n",
       "  'Basel_e': '75',\n",
       "  'Genf_e': '347',\n",
       "  'Bern_e': '126',\n",
       "  'Lausanne_e': '89',\n",
       "  'Freiburg_e': '56',\n",
       "  'Neuenburg_e': '1',\n",
       "  'Total_e': '886',\n",
       "  'Total_h': '2289',\n",
       "  'Total_s': ''})"
      ]
     },
     "execution_count": 25,
     "metadata": {},
     "output_type": "execute_result"
    }
   ],
   "source": [
    "# créer une liste vide\n",
    "result_file = []\n",
    "\n",
    "with open(file_3, 'r') as data:\n",
    "      a = csv.DictReader(data, delimiter='\\t')\n",
    "      d = list(a)\n",
    "len(d), d[0]"
   ]
  },
  {
   "cell_type": "code",
   "execution_count": null,
   "id": "22b53d06-7ce4-4505-9902-e421f4573e30",
   "metadata": {},
   "outputs": [],
   "source": []
  }
 ],
 "metadata": {
  "kernelspec": {
   "display_name": "Python 3 (ipykernel)",
   "language": "python",
   "name": "python3"
  },
  "language_info": {
   "codemirror_mode": {
    "name": "ipython",
    "version": 3
   },
   "file_extension": ".py",
   "mimetype": "text/x-python",
   "name": "python",
   "nbconvert_exporter": "python",
   "pygments_lexer": "ipython3",
   "version": "3.10.2"
  }
 },
 "nbformat": 4,
 "nbformat_minor": 5
}
