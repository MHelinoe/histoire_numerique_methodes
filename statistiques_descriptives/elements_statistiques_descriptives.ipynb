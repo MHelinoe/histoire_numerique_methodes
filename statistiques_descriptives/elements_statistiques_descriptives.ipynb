{
 "cells": [
  {
   "cell_type": "code",
   "execution_count": null,
   "id": "boxed-brook",
   "metadata": {},
   "outputs": [],
   "source": []
  },
  {
   "cell_type": "markdown",
   "id": "labeled-slovakia",
   "metadata": {},
   "source": [
    "## Importer les librairies nécessaires"
   ]
  },
  {
   "cell_type": "code",
   "execution_count": 1,
   "id": "entire-shame",
   "metadata": {},
   "outputs": [],
   "source": [
    "import random\n",
    "import pandas as pd\n",
    "import matplotlib.pyplot as plt\n",
    "import numpy as np"
   ]
  },
  {
   "cell_type": "markdown",
   "id": "affiliated-procurement",
   "metadata": {},
   "source": [
    "## Références bibliographiques\n",
    "\n",
    "\n",
    "* Hamon : Hamon Philippe, Hamon Agnès, et Jégou Nicolas, _Statistique descriptive. Cours et exercices corrigés_, Rennes, PUR, 2008.\n",
    "* Saly : Saly Pierre, _Méthodes statistiques descriptives pour les historiens_, Paris, A. Colin, 1991.\n",
    "\n"
   ]
  },
  {
   "cell_type": "code",
   "execution_count": null,
   "id": "developed-preference",
   "metadata": {},
   "outputs": [],
   "source": []
  },
  {
   "cell_type": "markdown",
   "id": "vital-airline",
   "metadata": {},
   "source": [
    "## Produire les observations\n",
    "\n",
    "Cf. Hamon, p.4, tableau 1.1\n",
    "\n",
    "Afin de reproduire ce tableau, on utilise des fonctions produisant des valeur aléatoires.\n",
    "\n",
    "* On produit d'abord les valeurs aléatoires (remplaçant les observations) pour chaque variable\n",
    "* On les regroupe ensuite dans un dataframe Pandas\n",
    "* 130 individus fictifs ont été créés"
   ]
  },
  {
   "cell_type": "code",
   "execution_count": null,
   "id": "perceived-brunswick",
   "metadata": {},
   "outputs": [],
   "source": [
    "### Créer une liste d'identifiants\n",
    "id_list = []\n",
    "[id_list.append(x) for x in range(1,131)]\n",
    "\n",
    "print(id_list[-5:])\n",
    "len(id_list)"
   ]
  },
  {
   "cell_type": "code",
   "execution_count": null,
   "id": "generic-toronto",
   "metadata": {
    "tags": []
   },
   "outputs": [],
   "source": [
    "### Créer une liste d'âges\n",
    "age_list = []\n",
    "for x in range(1,131):\n",
    "    age_list.append(random.randint(18,90))\n",
    "\n",
    "print(age_list[:5])\n",
    "len(age_list)"
   ]
  },
  {
   "cell_type": "code",
   "execution_count": null,
   "id": "narrative-settle",
   "metadata": {},
   "outputs": [],
   "source": [
    "### Créer une liste de nombre de personne dans un foyer\n",
    "nfoyer_list = []\n",
    "for x in range(1,131): \n",
    "    nfoyer_list.append(random.randint(1,7))\n",
    "\n",
    "print(nfoyer_list[:5])\n",
    "len(nfoyer_list)"
   ]
  },
  {
   "cell_type": "code",
   "execution_count": null,
   "id": "deadly-partition",
   "metadata": {},
   "outputs": [],
   "source": [
    "### Créer une liste de fréquences de lecture des journaux\n",
    "lecture_list = []\n",
    "for x in range(1,131): \n",
    "    lecture_list.append(random.choice(['tous les jours', 'de temps en temps', 'très rarement', 'trois-quatre fois par semaine', 'le week-end']))\n",
    "\n",
    "print(lecture_list[:5])\n",
    "len(lecture_list)"
   ]
  },
  {
   "cell_type": "code",
   "execution_count": null,
   "id": "driving-lobby",
   "metadata": {
    "tags": []
   },
   "outputs": [],
   "source": [
    "### Créer une liste d'orientations politiques\n",
    "politique_list = []\n",
    "for x in range(1,131): \n",
    "    politique_list.append(random.choice(['gauche', 'écologiste', 'droite', 'centre', 'populiste']))\n",
    "\n",
    "print(politique_list[:5])\n",
    "len(politique_list)"
   ]
  },
  {
   "cell_type": "code",
   "execution_count": null,
   "id": "affecting-lindsay",
   "metadata": {
    "tags": []
   },
   "outputs": [],
   "source": [
    "### Créer une liste de revenus mensuels\n",
    "revenu_list = []\n",
    "for x in range(1,131): \n",
    "    revenu_list.append(random.randint(2500,12000))\n",
    "\n",
    "print(revenu_list[:5])\n",
    "len(revenu_list)"
   ]
  },
  {
   "cell_type": "markdown",
   "id": "optical-joint",
   "metadata": {},
   "source": [
    "### Création du dataframe"
   ]
  },
  {
   "cell_type": "code",
   "execution_count": null,
   "id": "large-think",
   "metadata": {},
   "outputs": [],
   "source": [
    "#  https://www.statology.org/add-column-pandas-dataframe/\n",
    "\n",
    "observations = pd.DataFrame({'id' : id_list, 'age' : age_list, 'n_foyer' : nfoyer_list, \n",
    "                             'lecture_journal' : lecture_list, 'parti' : politique_list, \n",
    "                             'revenu_mensuel' : revenu_list})"
   ]
  },
  {
   "cell_type": "code",
   "execution_count": null,
   "id": "constant-liberia",
   "metadata": {},
   "outputs": [],
   "source": [
    "print(len(observations))\n",
    "observations.head()"
   ]
  },
  {
   "cell_type": "code",
   "execution_count": null,
   "id": "governing-occurrence",
   "metadata": {},
   "outputs": [],
   "source": [
    "observations.set_index('id', inplace=True)\n",
    "observations.head()"
   ]
  },
  {
   "cell_type": "code",
   "execution_count": null,
   "id": "elect-politics",
   "metadata": {},
   "outputs": [],
   "source": [
    "### Ecrire le fichier sur le disque afin de le corriger manuellement\n",
    "\n",
    "path = 'data/observations.csv'\n",
    "observations.to_csv(path)"
   ]
  },
  {
   "cell_type": "markdown",
   "id": "prescribed-bunny",
   "metadata": {},
   "source": [
    "## Analyser les observations\n",
    "\n",
    "* Regrouper et inspecter : la distribution\n",
    "* Afficher et analyser : les graphiques"
   ]
  },
  {
   "cell_type": "code",
   "execution_count": 2,
   "id": "considerable-consultation",
   "metadata": {},
   "outputs": [
    {
     "data": {
      "text/html": [
       "<div>\n",
       "<style scoped>\n",
       "    .dataframe tbody tr th:only-of-type {\n",
       "        vertical-align: middle;\n",
       "    }\n",
       "\n",
       "    .dataframe tbody tr th {\n",
       "        vertical-align: top;\n",
       "    }\n",
       "\n",
       "    .dataframe thead th {\n",
       "        text-align: right;\n",
       "    }\n",
       "</style>\n",
       "<table border=\"1\" class=\"dataframe\">\n",
       "  <thead>\n",
       "    <tr style=\"text-align: right;\">\n",
       "      <th></th>\n",
       "      <th>age</th>\n",
       "      <th>n_foyer</th>\n",
       "      <th>lecture_journal</th>\n",
       "      <th>parti</th>\n",
       "      <th>revenu_mensuel</th>\n",
       "    </tr>\n",
       "    <tr>\n",
       "      <th>id</th>\n",
       "      <th></th>\n",
       "      <th></th>\n",
       "      <th></th>\n",
       "      <th></th>\n",
       "      <th></th>\n",
       "    </tr>\n",
       "  </thead>\n",
       "  <tbody>\n",
       "    <tr>\n",
       "      <th>1</th>\n",
       "      <td>44</td>\n",
       "      <td>3</td>\n",
       "      <td>de temps en temps</td>\n",
       "      <td>droite</td>\n",
       "      <td>9660</td>\n",
       "    </tr>\n",
       "    <tr>\n",
       "      <th>2</th>\n",
       "      <td>45</td>\n",
       "      <td>1</td>\n",
       "      <td>tous les jours</td>\n",
       "      <td>droite</td>\n",
       "      <td>7364</td>\n",
       "    </tr>\n",
       "    <tr>\n",
       "      <th>3</th>\n",
       "      <td>54</td>\n",
       "      <td>3</td>\n",
       "      <td>de temps en temps</td>\n",
       "      <td>droite</td>\n",
       "      <td>8947</td>\n",
       "    </tr>\n",
       "    <tr>\n",
       "      <th>4</th>\n",
       "      <td>86</td>\n",
       "      <td>2</td>\n",
       "      <td>tous les jours</td>\n",
       "      <td>populiste</td>\n",
       "      <td>6317</td>\n",
       "    </tr>\n",
       "    <tr>\n",
       "      <th>5</th>\n",
       "      <td>77</td>\n",
       "      <td>2</td>\n",
       "      <td>tous les jours</td>\n",
       "      <td>gauche</td>\n",
       "      <td>6511</td>\n",
       "    </tr>\n",
       "  </tbody>\n",
       "</table>\n",
       "</div>"
      ],
      "text/plain": [
       "    age  n_foyer    lecture_journal      parti  revenu_mensuel\n",
       "id                                                            \n",
       "1    44        3  de temps en temps     droite            9660\n",
       "2    45        1     tous les jours     droite            7364\n",
       "3    54        3  de temps en temps     droite            8947\n",
       "4    86        2     tous les jours  populiste            6317\n",
       "5    77        2     tous les jours     gauche            6511"
      ]
     },
     "execution_count": 2,
     "metadata": {},
     "output_type": "execute_result"
    }
   ],
   "source": [
    "### Lire le fichier corrigé manuellement – ne pas effacer !\n",
    "\n",
    "path = 'data/observations_mod.csv'\n",
    "\n",
    "observations_mod = pd.read_csv(path)\n",
    "observations_mod.set_index('id', inplace=True)\n",
    "observations_mod.head()"
   ]
  },
  {
   "cell_type": "code",
   "execution_count": 3,
   "id": "pressed-geneva",
   "metadata": {},
   "outputs": [
    {
     "data": {
      "text/plain": [
       "130"
      ]
     },
     "execution_count": 3,
     "metadata": {},
     "output_type": "execute_result"
    }
   ],
   "source": [
    "obs = observations_mod\n",
    "#obs = observations # 900\n",
    "len(obs)"
   ]
  },
  {
   "cell_type": "code",
   "execution_count": 4,
   "id": "maritime-apparatus",
   "metadata": {},
   "outputs": [
    {
     "data": {
      "text/plain": [
       "lecture_journal\n",
       "de temps en temps                17\n",
       "tous les jours                   17\n",
       "très rarement                    30\n",
       "le week-end                      31\n",
       "trois-quatre fois par semaine    35\n",
       "dtype: int64"
      ]
     },
     "execution_count": 4,
     "metadata": {},
     "output_type": "execute_result"
    }
   ],
   "source": [
    "### Regrouper et compter par fréquence de lecture du journal (variable qualitative)\n",
    "gb_lecture_journal = obs.groupby('lecture_journal').size()\n",
    "sgb_lecture_journal = gb_lecture_journal.sort_values(ascending = True)\n",
    "sgb_lecture_journal"
   ]
  },
  {
   "cell_type": "code",
   "execution_count": 5,
   "id": "chemical-denmark",
   "metadata": {},
   "outputs": [
    {
     "data": {
      "text/plain": [
       "parti\n",
       "droite        18\n",
       "gauche        23\n",
       "centre        25\n",
       "populiste     27\n",
       "écologiste    37\n",
       "dtype: int64"
      ]
     },
     "execution_count": 5,
     "metadata": {},
     "output_type": "execute_result"
    }
   ],
   "source": [
    "### Regrouper et compter\n",
    "gb_parti = obs.groupby('parti').size()\n",
    "sgb_parti = gb_parti.sort_values(ascending = True)\n",
    "sgb_parti"
   ]
  },
  {
   "cell_type": "code",
   "execution_count": 6,
   "id": "frequent-courage",
   "metadata": {},
   "outputs": [
    {
     "data": {
      "text/html": [
       "<div>\n",
       "<style scoped>\n",
       "    .dataframe tbody tr th:only-of-type {\n",
       "        vertical-align: middle;\n",
       "    }\n",
       "\n",
       "    .dataframe tbody tr th {\n",
       "        vertical-align: top;\n",
       "    }\n",
       "\n",
       "    .dataframe thead th {\n",
       "        text-align: right;\n",
       "    }\n",
       "</style>\n",
       "<table border=\"1\" class=\"dataframe\">\n",
       "  <thead>\n",
       "    <tr style=\"text-align: right;\">\n",
       "      <th></th>\n",
       "      <th>parti</th>\n",
       "      <th>0</th>\n",
       "    </tr>\n",
       "  </thead>\n",
       "  <tbody>\n",
       "    <tr>\n",
       "      <th>0</th>\n",
       "      <td>droite</td>\n",
       "      <td>18</td>\n",
       "    </tr>\n",
       "    <tr>\n",
       "      <th>1</th>\n",
       "      <td>gauche</td>\n",
       "      <td>23</td>\n",
       "    </tr>\n",
       "    <tr>\n",
       "      <th>2</th>\n",
       "      <td>centre</td>\n",
       "      <td>25</td>\n",
       "    </tr>\n",
       "    <tr>\n",
       "      <th>3</th>\n",
       "      <td>populiste</td>\n",
       "      <td>27</td>\n",
       "    </tr>\n",
       "    <tr>\n",
       "      <th>4</th>\n",
       "      <td>écologiste</td>\n",
       "      <td>37</td>\n",
       "    </tr>\n",
       "  </tbody>\n",
       "</table>\n",
       "</div>"
      ],
      "text/plain": [
       "        parti   0\n",
       "0      droite  18\n",
       "1      gauche  23\n",
       "2      centre  25\n",
       "3   populiste  27\n",
       "4  écologiste  37"
      ]
     },
     "execution_count": 6,
     "metadata": {},
     "output_type": "execute_result"
    }
   ],
   "source": [
    "df_partis = pd.DataFrame(sgb_parti)\n",
    "df_partis.reset_index(inplace=True)\n",
    "df_partis"
   ]
  },
  {
   "cell_type": "code",
   "execution_count": 7,
   "id": "plastic-florence",
   "metadata": {
    "tags": []
   },
   "outputs": [
    {
     "data": {
      "text/html": [
       "<div>\n",
       "<style scoped>\n",
       "    .dataframe tbody tr th:only-of-type {\n",
       "        vertical-align: middle;\n",
       "    }\n",
       "\n",
       "    .dataframe tbody tr th {\n",
       "        vertical-align: top;\n",
       "    }\n",
       "\n",
       "    .dataframe thead th {\n",
       "        text-align: right;\n",
       "    }\n",
       "</style>\n",
       "<table border=\"1\" class=\"dataframe\">\n",
       "  <thead>\n",
       "    <tr style=\"text-align: right;\">\n",
       "      <th></th>\n",
       "      <th>parti</th>\n",
       "      <th>effectif</th>\n",
       "      <th>code_parti</th>\n",
       "    </tr>\n",
       "  </thead>\n",
       "  <tbody>\n",
       "    <tr>\n",
       "      <th>0</th>\n",
       "      <td>droite</td>\n",
       "      <td>18</td>\n",
       "      <td>4</td>\n",
       "    </tr>\n",
       "    <tr>\n",
       "      <th>1</th>\n",
       "      <td>gauche</td>\n",
       "      <td>23</td>\n",
       "      <td>2</td>\n",
       "    </tr>\n",
       "    <tr>\n",
       "      <th>2</th>\n",
       "      <td>centre</td>\n",
       "      <td>25</td>\n",
       "      <td>5</td>\n",
       "    </tr>\n",
       "    <tr>\n",
       "      <th>3</th>\n",
       "      <td>populiste</td>\n",
       "      <td>27</td>\n",
       "      <td>3</td>\n",
       "    </tr>\n",
       "    <tr>\n",
       "      <th>4</th>\n",
       "      <td>écologiste</td>\n",
       "      <td>37</td>\n",
       "      <td>1</td>\n",
       "    </tr>\n",
       "  </tbody>\n",
       "</table>\n",
       "</div>"
      ],
      "text/plain": [
       "        parti  effectif  code_parti\n",
       "0      droite        18           4\n",
       "1      gauche        23           2\n",
       "2      centre        25           5\n",
       "3   populiste        27           3\n",
       "4  écologiste        37           1"
      ]
     },
     "execution_count": 7,
     "metadata": {},
     "output_type": "execute_result"
    }
   ],
   "source": [
    "df_partis.columns = ['parti','effectif']\n",
    "df_partis['code_parti'] = [4,2,5,3,1]\n",
    "# df_partis.reset_index('parti').set_index('code_parti')\n",
    "df_partis"
   ]
  },
  {
   "cell_type": "code",
   "execution_count": 8,
   "id": "subject-marking",
   "metadata": {
    "tags": []
   },
   "outputs": [
    {
     "data": {
      "image/png": "[encoded data removed]",
      "text/plain": [
       "<Figure size 1152x576 with 1 Axes>"
      ]
     },
     "metadata": {
      "needs_background": "light"
     },
     "output_type": "display_data"
    }
   ],
   "source": [
    "# Distribution par parti\n",
    "\n",
    "objects = [l for l in df_partis['parti']]\n",
    "eff = [l for l in df_partis['effectif']]\n",
    "\n",
    "objects = [l for l in df_partis.sort_values('code_parti')['parti']]\n",
    "eff = [l for l in df_partis.sort_values('code_parti')['effectif']]\n",
    "\n",
    "\n",
    "\n",
    "p1 = plt.bar(objects, eff, width=0.4)\n",
    "\n",
    "#plt.xticks(l5Years)\n",
    "plt.ylabel('Effectif')\n",
    "plt.title('Effectifs par parti')\n",
    "plt.gcf().set_size_inches(16, 8)\n",
    "#plt.gca().axes.get_xaxis().set_visible(False)\n",
    "# supported formats: eps, pdf, pgf, png, ps, raw, rgba, svg, svgz\n",
    "#plt.savefig('exported_pictures/effectifs_naissances_par_annee.png', dpi=100, bbox_inches = \"tight\") #pdf, svg\n",
    "plt.xticks(rotation=45)\n",
    "plt.show()\n"
   ]
  },
  {
   "cell_type": "code",
   "execution_count": 9,
   "id": "living-probe",
   "metadata": {},
   "outputs": [
    {
     "data": {
      "text/plain": [
       "lecture_journal\n",
       "de temps en temps                17\n",
       "tous les jours                   17\n",
       "très rarement                    30\n",
       "le week-end                      31\n",
       "trois-quatre fois par semaine    35\n",
       "dtype: int64"
      ]
     },
     "execution_count": 9,
     "metadata": {},
     "output_type": "execute_result"
    }
   ],
   "source": [
    "sgb_lecture_journal"
   ]
  },
  {
   "cell_type": "code",
   "execution_count": 10,
   "id": "fancy-pasta",
   "metadata": {},
   "outputs": [
    {
     "data": {
      "text/html": [
       "<div>\n",
       "<style scoped>\n",
       "    .dataframe tbody tr th:only-of-type {\n",
       "        vertical-align: middle;\n",
       "    }\n",
       "\n",
       "    .dataframe tbody tr th {\n",
       "        vertical-align: top;\n",
       "    }\n",
       "\n",
       "    .dataframe thead th {\n",
       "        text-align: right;\n",
       "    }\n",
       "</style>\n",
       "<table border=\"1\" class=\"dataframe\">\n",
       "  <thead>\n",
       "    <tr style=\"text-align: right;\">\n",
       "      <th></th>\n",
       "      <th>lecture</th>\n",
       "      <th>effectif</th>\n",
       "      <th>code_lecture</th>\n",
       "    </tr>\n",
       "  </thead>\n",
       "  <tbody>\n",
       "    <tr>\n",
       "      <th>0</th>\n",
       "      <td>de temps en temps</td>\n",
       "      <td>17</td>\n",
       "      <td>2</td>\n",
       "    </tr>\n",
       "    <tr>\n",
       "      <th>1</th>\n",
       "      <td>tous les jours</td>\n",
       "      <td>17</td>\n",
       "      <td>5</td>\n",
       "    </tr>\n",
       "    <tr>\n",
       "      <th>2</th>\n",
       "      <td>très rarement</td>\n",
       "      <td>30</td>\n",
       "      <td>1</td>\n",
       "    </tr>\n",
       "    <tr>\n",
       "      <th>3</th>\n",
       "      <td>le week-end</td>\n",
       "      <td>31</td>\n",
       "      <td>3</td>\n",
       "    </tr>\n",
       "    <tr>\n",
       "      <th>4</th>\n",
       "      <td>trois-quatre fois par semaine</td>\n",
       "      <td>35</td>\n",
       "      <td>4</td>\n",
       "    </tr>\n",
       "  </tbody>\n",
       "</table>\n",
       "</div>"
      ],
      "text/plain": [
       "                         lecture  effectif  code_lecture\n",
       "0              de temps en temps        17             2\n",
       "1                 tous les jours        17             5\n",
       "2                  très rarement        30             1\n",
       "3                    le week-end        31             3\n",
       "4  trois-quatre fois par semaine        35             4"
      ]
     },
     "execution_count": 10,
     "metadata": {},
     "output_type": "execute_result"
    }
   ],
   "source": [
    "df_lecture_journal = pd.DataFrame(sgb_lecture_journal)\n",
    "df_lecture_journal.reset_index(inplace=True)\n",
    "df_lecture_journal.columns = ['lecture','effectif']\n",
    "df_lecture_journal['code_lecture'] = [2,5,1,3,4]\n",
    "df_lecture_journal"
   ]
  },
  {
   "cell_type": "code",
   "execution_count": 11,
   "id": "entitled-violation",
   "metadata": {},
   "outputs": [
    {
     "data": {
      "text/html": [
       "<div>\n",
       "<style scoped>\n",
       "    .dataframe tbody tr th:only-of-type {\n",
       "        vertical-align: middle;\n",
       "    }\n",
       "\n",
       "    .dataframe tbody tr th {\n",
       "        vertical-align: top;\n",
       "    }\n",
       "\n",
       "    .dataframe thead th {\n",
       "        text-align: right;\n",
       "    }\n",
       "</style>\n",
       "<table border=\"1\" class=\"dataframe\">\n",
       "  <thead>\n",
       "    <tr style=\"text-align: right;\">\n",
       "      <th></th>\n",
       "      <th>lecture</th>\n",
       "      <th>effectif</th>\n",
       "      <th>code_lecture</th>\n",
       "    </tr>\n",
       "  </thead>\n",
       "  <tbody>\n",
       "    <tr>\n",
       "      <th>2</th>\n",
       "      <td>très rarement</td>\n",
       "      <td>30</td>\n",
       "      <td>1</td>\n",
       "    </tr>\n",
       "    <tr>\n",
       "      <th>0</th>\n",
       "      <td>de temps en temps</td>\n",
       "      <td>17</td>\n",
       "      <td>2</td>\n",
       "    </tr>\n",
       "    <tr>\n",
       "      <th>3</th>\n",
       "      <td>le week-end</td>\n",
       "      <td>31</td>\n",
       "      <td>3</td>\n",
       "    </tr>\n",
       "    <tr>\n",
       "      <th>4</th>\n",
       "      <td>trois-quatre fois par semaine</td>\n",
       "      <td>35</td>\n",
       "      <td>4</td>\n",
       "    </tr>\n",
       "    <tr>\n",
       "      <th>1</th>\n",
       "      <td>tous les jours</td>\n",
       "      <td>17</td>\n",
       "      <td>5</td>\n",
       "    </tr>\n",
       "  </tbody>\n",
       "</table>\n",
       "</div>"
      ],
      "text/plain": [
       "                         lecture  effectif  code_lecture\n",
       "2                  très rarement        30             1\n",
       "0              de temps en temps        17             2\n",
       "3                    le week-end        31             3\n",
       "4  trois-quatre fois par semaine        35             4\n",
       "1                 tous les jours        17             5"
      ]
     },
     "execution_count": 11,
     "metadata": {},
     "output_type": "execute_result"
    }
   ],
   "source": [
    "df_lecture_journal.sort_values('code_lecture', inplace=True)\n",
    "df_lecture_journal"
   ]
  },
  {
   "cell_type": "code",
   "execution_count": 12,
   "id": "alike-disclosure",
   "metadata": {},
   "outputs": [
    {
     "data": {
      "text/html": [
       "<div>\n",
       "<style scoped>\n",
       "    .dataframe tbody tr th:only-of-type {\n",
       "        vertical-align: middle;\n",
       "    }\n",
       "\n",
       "    .dataframe tbody tr th {\n",
       "        vertical-align: top;\n",
       "    }\n",
       "\n",
       "    .dataframe thead th {\n",
       "        text-align: right;\n",
       "    }\n",
       "</style>\n",
       "<table border=\"1\" class=\"dataframe\">\n",
       "  <thead>\n",
       "    <tr style=\"text-align: right;\">\n",
       "      <th></th>\n",
       "      <th>lecture</th>\n",
       "      <th>effectif</th>\n",
       "      <th>code_lecture</th>\n",
       "      <th>effectif_cumule</th>\n",
       "    </tr>\n",
       "  </thead>\n",
       "  <tbody>\n",
       "    <tr>\n",
       "      <th>2</th>\n",
       "      <td>très rarement</td>\n",
       "      <td>30</td>\n",
       "      <td>1</td>\n",
       "      <td>30</td>\n",
       "    </tr>\n",
       "    <tr>\n",
       "      <th>0</th>\n",
       "      <td>de temps en temps</td>\n",
       "      <td>17</td>\n",
       "      <td>2</td>\n",
       "      <td>47</td>\n",
       "    </tr>\n",
       "    <tr>\n",
       "      <th>3</th>\n",
       "      <td>le week-end</td>\n",
       "      <td>31</td>\n",
       "      <td>3</td>\n",
       "      <td>78</td>\n",
       "    </tr>\n",
       "    <tr>\n",
       "      <th>4</th>\n",
       "      <td>trois-quatre fois par semaine</td>\n",
       "      <td>35</td>\n",
       "      <td>4</td>\n",
       "      <td>113</td>\n",
       "    </tr>\n",
       "    <tr>\n",
       "      <th>1</th>\n",
       "      <td>tous les jours</td>\n",
       "      <td>17</td>\n",
       "      <td>5</td>\n",
       "      <td>130</td>\n",
       "    </tr>\n",
       "  </tbody>\n",
       "</table>\n",
       "</div>"
      ],
      "text/plain": [
       "                         lecture  effectif  code_lecture  effectif_cumule\n",
       "2                  très rarement        30             1               30\n",
       "0              de temps en temps        17             2               47\n",
       "3                    le week-end        31             3               78\n",
       "4  trois-quatre fois par semaine        35             4              113\n",
       "1                 tous les jours        17             5              130"
      ]
     },
     "execution_count": 12,
     "metadata": {},
     "output_type": "execute_result"
    }
   ],
   "source": [
    "df_lecture_journal['effectif_cumule'] = df_lecture_journal['effectif'].cumsum()\n",
    "df_lecture_journal"
   ]
  },
  {
   "cell_type": "code",
   "execution_count": 13,
   "id": "joint-terror",
   "metadata": {},
   "outputs": [
    {
     "data": {
      "text/html": [
       "<div>\n",
       "<style scoped>\n",
       "    .dataframe tbody tr th:only-of-type {\n",
       "        vertical-align: middle;\n",
       "    }\n",
       "\n",
       "    .dataframe tbody tr th {\n",
       "        vertical-align: top;\n",
       "    }\n",
       "\n",
       "    .dataframe thead th {\n",
       "        text-align: right;\n",
       "    }\n",
       "</style>\n",
       "<table border=\"1\" class=\"dataframe\">\n",
       "  <thead>\n",
       "    <tr style=\"text-align: right;\">\n",
       "      <th></th>\n",
       "      <th>lecture</th>\n",
       "      <th>effectif</th>\n",
       "      <th>code_lecture</th>\n",
       "      <th>effectif_cumule</th>\n",
       "      <th>frequence</th>\n",
       "    </tr>\n",
       "  </thead>\n",
       "  <tbody>\n",
       "    <tr>\n",
       "      <th>2</th>\n",
       "      <td>très rarement</td>\n",
       "      <td>30</td>\n",
       "      <td>1</td>\n",
       "      <td>30</td>\n",
       "      <td>23.08</td>\n",
       "    </tr>\n",
       "    <tr>\n",
       "      <th>0</th>\n",
       "      <td>de temps en temps</td>\n",
       "      <td>17</td>\n",
       "      <td>2</td>\n",
       "      <td>47</td>\n",
       "      <td>13.08</td>\n",
       "    </tr>\n",
       "    <tr>\n",
       "      <th>3</th>\n",
       "      <td>le week-end</td>\n",
       "      <td>31</td>\n",
       "      <td>3</td>\n",
       "      <td>78</td>\n",
       "      <td>23.85</td>\n",
       "    </tr>\n",
       "    <tr>\n",
       "      <th>4</th>\n",
       "      <td>trois-quatre fois par semaine</td>\n",
       "      <td>35</td>\n",
       "      <td>4</td>\n",
       "      <td>113</td>\n",
       "      <td>26.92</td>\n",
       "    </tr>\n",
       "    <tr>\n",
       "      <th>1</th>\n",
       "      <td>tous les jours</td>\n",
       "      <td>17</td>\n",
       "      <td>5</td>\n",
       "      <td>130</td>\n",
       "      <td>13.08</td>\n",
       "    </tr>\n",
       "  </tbody>\n",
       "</table>\n",
       "</div>"
      ],
      "text/plain": [
       "                         lecture  effectif  code_lecture  effectif_cumule  \\\n",
       "2                  très rarement        30             1               30   \n",
       "0              de temps en temps        17             2               47   \n",
       "3                    le week-end        31             3               78   \n",
       "4  trois-quatre fois par semaine        35             4              113   \n",
       "1                 tous les jours        17             5              130   \n",
       "\n",
       "   frequence  \n",
       "2      23.08  \n",
       "0      13.08  \n",
       "3      23.85  \n",
       "4      26.92  \n",
       "1      13.08  "
      ]
     },
     "execution_count": 13,
     "metadata": {},
     "output_type": "execute_result"
    }
   ],
   "source": [
    "df_lecture_journal['frequence'] = (100 * df_lecture_journal['effectif'] \\\n",
    "                                   / df_lecture_journal['effectif'].sum()).round(2)\n",
    "df_lecture_journal"
   ]
  },
  {
   "cell_type": "code",
   "execution_count": 14,
   "id": "criminal-drinking",
   "metadata": {},
   "outputs": [
    {
     "data": {
      "text/html": [
       "<div>\n",
       "<style scoped>\n",
       "    .dataframe tbody tr th:only-of-type {\n",
       "        vertical-align: middle;\n",
       "    }\n",
       "\n",
       "    .dataframe tbody tr th {\n",
       "        vertical-align: top;\n",
       "    }\n",
       "\n",
       "    .dataframe thead th {\n",
       "        text-align: right;\n",
       "    }\n",
       "</style>\n",
       "<table border=\"1\" class=\"dataframe\">\n",
       "  <thead>\n",
       "    <tr style=\"text-align: right;\">\n",
       "      <th></th>\n",
       "      <th>lecture</th>\n",
       "      <th>effectif</th>\n",
       "      <th>code_lecture</th>\n",
       "      <th>effectif_cumule</th>\n",
       "      <th>frequence</th>\n",
       "      <th>frequence_cumulee</th>\n",
       "    </tr>\n",
       "  </thead>\n",
       "  <tbody>\n",
       "    <tr>\n",
       "      <th>2</th>\n",
       "      <td>très rarement</td>\n",
       "      <td>30</td>\n",
       "      <td>1</td>\n",
       "      <td>30</td>\n",
       "      <td>23.08</td>\n",
       "      <td>23.08</td>\n",
       "    </tr>\n",
       "    <tr>\n",
       "      <th>0</th>\n",
       "      <td>de temps en temps</td>\n",
       "      <td>17</td>\n",
       "      <td>2</td>\n",
       "      <td>47</td>\n",
       "      <td>13.08</td>\n",
       "      <td>36.15</td>\n",
       "    </tr>\n",
       "    <tr>\n",
       "      <th>3</th>\n",
       "      <td>le week-end</td>\n",
       "      <td>31</td>\n",
       "      <td>3</td>\n",
       "      <td>78</td>\n",
       "      <td>23.85</td>\n",
       "      <td>60.00</td>\n",
       "    </tr>\n",
       "    <tr>\n",
       "      <th>4</th>\n",
       "      <td>trois-quatre fois par semaine</td>\n",
       "      <td>35</td>\n",
       "      <td>4</td>\n",
       "      <td>113</td>\n",
       "      <td>26.92</td>\n",
       "      <td>86.92</td>\n",
       "    </tr>\n",
       "    <tr>\n",
       "      <th>1</th>\n",
       "      <td>tous les jours</td>\n",
       "      <td>17</td>\n",
       "      <td>5</td>\n",
       "      <td>130</td>\n",
       "      <td>13.08</td>\n",
       "      <td>100.00</td>\n",
       "    </tr>\n",
       "  </tbody>\n",
       "</table>\n",
       "</div>"
      ],
      "text/plain": [
       "                         lecture  effectif  code_lecture  effectif_cumule  \\\n",
       "2                  très rarement        30             1               30   \n",
       "0              de temps en temps        17             2               47   \n",
       "3                    le week-end        31             3               78   \n",
       "4  trois-quatre fois par semaine        35             4              113   \n",
       "1                 tous les jours        17             5              130   \n",
       "\n",
       "   frequence  frequence_cumulee  \n",
       "2      23.08              23.08  \n",
       "0      13.08              36.15  \n",
       "3      23.85              60.00  \n",
       "4      26.92              86.92  \n",
       "1      13.08             100.00  "
      ]
     },
     "execution_count": 14,
     "metadata": {},
     "output_type": "execute_result"
    }
   ],
   "source": [
    "### Fréquence cumulée calculée en utilisant les effectifs cumulés\n",
    "\n",
    "df_lecture_journal['frequence_cumulee'] = (100 * df_lecture_journal['effectif_cumule'] \\\n",
    "                                / df_lecture_journal['effectif'].sum()).round(2)\n",
    "df_lecture_journal"
   ]
  },
  {
   "cell_type": "code",
   "execution_count": 15,
   "id": "interstate-blind",
   "metadata": {},
   "outputs": [
    {
     "data": {
      "text/html": [
       "<div>\n",
       "<style scoped>\n",
       "    .dataframe tbody tr th:only-of-type {\n",
       "        vertical-align: middle;\n",
       "    }\n",
       "\n",
       "    .dataframe tbody tr th {\n",
       "        vertical-align: top;\n",
       "    }\n",
       "\n",
       "    .dataframe thead th {\n",
       "        text-align: right;\n",
       "    }\n",
       "</style>\n",
       "<table border=\"1\" class=\"dataframe\">\n",
       "  <thead>\n",
       "    <tr style=\"text-align: right;\">\n",
       "      <th></th>\n",
       "      <th>lecture</th>\n",
       "      <th>effectif</th>\n",
       "      <th>code_lecture</th>\n",
       "      <th>effectif_cumule</th>\n",
       "      <th>frequence</th>\n",
       "      <th>frequence_cumulee</th>\n",
       "    </tr>\n",
       "  </thead>\n",
       "  <tbody>\n",
       "    <tr>\n",
       "      <th>2</th>\n",
       "      <td>très rarement</td>\n",
       "      <td>30</td>\n",
       "      <td>1</td>\n",
       "      <td>30</td>\n",
       "      <td>23.08</td>\n",
       "      <td>23.08</td>\n",
       "    </tr>\n",
       "    <tr>\n",
       "      <th>0</th>\n",
       "      <td>de temps en temps</td>\n",
       "      <td>17</td>\n",
       "      <td>2</td>\n",
       "      <td>47</td>\n",
       "      <td>13.08</td>\n",
       "      <td>36.15</td>\n",
       "    </tr>\n",
       "    <tr>\n",
       "      <th>3</th>\n",
       "      <td>le week-end</td>\n",
       "      <td>31</td>\n",
       "      <td>3</td>\n",
       "      <td>78</td>\n",
       "      <td>23.85</td>\n",
       "      <td>60.00</td>\n",
       "    </tr>\n",
       "    <tr>\n",
       "      <th>4</th>\n",
       "      <td>trois-quatre fois par semaine</td>\n",
       "      <td>35</td>\n",
       "      <td>4</td>\n",
       "      <td>113</td>\n",
       "      <td>26.92</td>\n",
       "      <td>86.92</td>\n",
       "    </tr>\n",
       "    <tr>\n",
       "      <th>1</th>\n",
       "      <td>tous les jours</td>\n",
       "      <td>17</td>\n",
       "      <td>5</td>\n",
       "      <td>130</td>\n",
       "      <td>13.08</td>\n",
       "      <td>100.00</td>\n",
       "    </tr>\n",
       "  </tbody>\n",
       "</table>\n",
       "</div>"
      ],
      "text/plain": [
       "                         lecture  effectif  code_lecture  effectif_cumule  \\\n",
       "2                  très rarement        30             1               30   \n",
       "0              de temps en temps        17             2               47   \n",
       "3                    le week-end        31             3               78   \n",
       "4  trois-quatre fois par semaine        35             4              113   \n",
       "1                 tous les jours        17             5              130   \n",
       "\n",
       "   frequence  frequence_cumulee  \n",
       "2      23.08              23.08  \n",
       "0      13.08              36.15  \n",
       "3      23.85              60.00  \n",
       "4      26.92              86.92  \n",
       "1      13.08             100.00  "
      ]
     },
     "execution_count": 15,
     "metadata": {},
     "output_type": "execute_result"
    }
   ],
   "source": [
    "### Fréquence cumulée calculée directement\n",
    "\n",
    "# Cf. https://www.geeksforgeeks.org/cumulative-percentage-of-a-column-in-pandas-python/\n",
    "\n",
    "df_lecture_journal['frequence_cumulee'] = (100 * df_lecture_journal['effectif'].cumsum() \\\n",
    "                                / df_lecture_journal['effectif'].sum()).round(2)\n",
    "df_lecture_journal"
   ]
  },
  {
   "cell_type": "code",
   "execution_count": 16,
   "id": "spectacular-junction",
   "metadata": {},
   "outputs": [
    {
     "data": {
      "image/png": "[encoded data removed]",
      "text/plain": [
       "<Figure size 1152x576 with 1 Axes>"
      ]
     },
     "metadata": {
      "needs_background": "light"
     },
     "output_type": "display_data"
    }
   ],
   "source": [
    "# Distribution par lecture journal\n",
    "\n",
    "objects = [l for l in sgb_lecture_journal.index]\n",
    "eff = [l for l in sgb_lecture_journal.values]\n",
    "\n",
    "\n",
    "objects = [l for l in df_lecture_journal.sort_values('code_lecture')['lecture']]\n",
    "eff = [l for l in df_lecture_journal.sort_values('code_lecture')['effectif']]\n",
    "\n",
    "p1 = plt.bar(objects, eff, width=0.3)\n",
    "\n",
    "#plt.xticks(l5Years)\n",
    "plt.ylabel('Effectif')\n",
    "plt.title('Effectif par lecture du journal')\n",
    "plt.gcf().set_size_inches(16, 8)\n",
    "#plt.gca().axes.get_xaxis().set_visible(False)\n",
    "# supported formats: eps, pdf, pgf, png, ps, raw, rgba, svg, svgz\n",
    "#plt.savefig('exported_pictures/effectifs_naissances_par_annee.png', dpi=100, bbox_inches = \"tight\") #pdf, svg\n",
    "plt.xticks(rotation=45)\n",
    "plt.show()\n"
   ]
  },
  {
   "cell_type": "code",
   "execution_count": 17,
   "id": "generic-michigan",
   "metadata": {},
   "outputs": [
    {
     "data": {
      "image/png": "[encoded data removed]",
      "text/plain": [
       "<Figure size 1152x576 with 1 Axes>"
      ]
     },
     "metadata": {
      "needs_background": "light"
     },
     "output_type": "display_data"
    }
   ],
   "source": [
    "# Distribution par lecture journal\n",
    "\n",
    "objects = [l for l in sgb_lecture_journal.index]\n",
    "eff = [l for l in sgb_lecture_journal.values]\n",
    "\n",
    "\n",
    "objects = [l for l in df_lecture_journal['lecture']]\n",
    "eff = [l for l in df_lecture_journal['frequence_cumulee']]\n",
    "\n",
    "p1 = plt.bar(objects, eff, width=0.4)\n",
    "\n",
    "#plt.xticks(l5Years)\n",
    "plt.ylabel('Fréquence cumulée')\n",
    "plt.title('Fréquence cumulée par lecture du journal')\n",
    "plt.gcf().set_size_inches(16, 8)\n",
    "#plt.gca().axes.get_xaxis().set_visible(False)\n",
    "# supported formats: eps, pdf, pgf, png, ps, raw, rgba, svg, svgz\n",
    "#plt.savefig('exported_pictures/effectifs_naissances_par_annee.png', dpi=100, bbox_inches = \"tight\") #pdf, svg\n",
    "plt.xticks(rotation=45)\n",
    "plt.show()\n"
   ]
  },
  {
   "cell_type": "markdown",
   "id": "beneficial-sullivan",
   "metadata": {},
   "source": [
    "## Paramètres de centralité et de dispersion"
   ]
  },
  {
   "cell_type": "code",
   "execution_count": 18,
   "id": "reliable-static",
   "metadata": {},
   "outputs": [
    {
     "data": {
      "text/plain": [
       "count    130.000000\n",
       "mean      49.553846\n",
       "std       20.757015\n",
       "min       18.000000\n",
       "25%       31.000000\n",
       "50%       45.000000\n",
       "75%       68.000000\n",
       "max       90.000000\n",
       "Name: age, dtype: float64"
      ]
     },
     "execution_count": 18,
     "metadata": {},
     "output_type": "execute_result"
    }
   ],
   "source": [
    "obs['age'].describe()"
   ]
  },
  {
   "cell_type": "code",
   "execution_count": 19,
   "id": "iraqi-circular",
   "metadata": {},
   "outputs": [
    {
     "data": {
      "text/plain": [
       "<AxesSubplot:>"
      ]
     },
     "execution_count": 19,
     "metadata": {},
     "output_type": "execute_result"
    },
    {
     "data": {
      "image/png": "[encoded data removed]",
      "text/plain": [
       "<Figure size 1152x288 with 1 Axes>"
      ]
     },
     "metadata": {
      "needs_background": "light"
     },
     "output_type": "display_data"
    }
   ],
   "source": [
    "obs.boxplot(column=['age'], vert=False, figsize=(16,4))"
   ]
  },
  {
   "cell_type": "markdown",
   "id": "aware-simple",
   "metadata": {},
   "source": [
    "## Variable quantitative continuer, à classer"
   ]
  },
  {
   "cell_type": "code",
   "execution_count": 20,
   "id": "utility-modern",
   "metadata": {},
   "outputs": [
    {
     "data": {
      "text/plain": [
       "0    74\n",
       "dtype: int64"
      ]
     },
     "execution_count": 20,
     "metadata": {},
     "output_type": "execute_result"
    }
   ],
   "source": [
    "obs['age'].mode()"
   ]
  },
  {
   "cell_type": "code",
   "execution_count": 21,
   "id": "incredible-summer",
   "metadata": {},
   "outputs": [
    {
     "data": {
      "text/plain": [
       "6"
      ]
     },
     "execution_count": 21,
     "metadata": {},
     "output_type": "execute_result"
    }
   ],
   "source": [
    "len(obs[obs['age'] == 74]['age'])"
   ]
  },
  {
   "cell_type": "code",
   "execution_count": 22,
   "id": "opened-closure",
   "metadata": {},
   "outputs": [
    {
     "data": {
      "text/html": [
       "<div>\n",
       "<style scoped>\n",
       "    .dataframe tbody tr th:only-of-type {\n",
       "        vertical-align: middle;\n",
       "    }\n",
       "\n",
       "    .dataframe tbody tr th {\n",
       "        vertical-align: top;\n",
       "    }\n",
       "\n",
       "    .dataframe thead th {\n",
       "        text-align: right;\n",
       "    }\n",
       "</style>\n",
       "<table border=\"1\" class=\"dataframe\">\n",
       "  <thead>\n",
       "    <tr style=\"text-align: right;\">\n",
       "      <th></th>\n",
       "      <th>age</th>\n",
       "      <th>n_foyer</th>\n",
       "      <th>lecture_journal</th>\n",
       "      <th>parti</th>\n",
       "      <th>revenu_mensuel</th>\n",
       "      <th>generation</th>\n",
       "    </tr>\n",
       "    <tr>\n",
       "      <th>id</th>\n",
       "      <th></th>\n",
       "      <th></th>\n",
       "      <th></th>\n",
       "      <th></th>\n",
       "      <th></th>\n",
       "      <th></th>\n",
       "    </tr>\n",
       "  </thead>\n",
       "  <tbody>\n",
       "    <tr>\n",
       "      <th>1</th>\n",
       "      <td>44</td>\n",
       "      <td>3</td>\n",
       "      <td>de temps en temps</td>\n",
       "      <td>droite</td>\n",
       "      <td>9660</td>\n",
       "      <td>[41, 61)</td>\n",
       "    </tr>\n",
       "    <tr>\n",
       "      <th>2</th>\n",
       "      <td>45</td>\n",
       "      <td>1</td>\n",
       "      <td>tous les jours</td>\n",
       "      <td>droite</td>\n",
       "      <td>7364</td>\n",
       "      <td>[41, 61)</td>\n",
       "    </tr>\n",
       "    <tr>\n",
       "      <th>3</th>\n",
       "      <td>54</td>\n",
       "      <td>3</td>\n",
       "      <td>de temps en temps</td>\n",
       "      <td>droite</td>\n",
       "      <td>8947</td>\n",
       "      <td>[41, 61)</td>\n",
       "    </tr>\n",
       "    <tr>\n",
       "      <th>4</th>\n",
       "      <td>86</td>\n",
       "      <td>2</td>\n",
       "      <td>tous les jours</td>\n",
       "      <td>populiste</td>\n",
       "      <td>6317</td>\n",
       "      <td>[81, 101)</td>\n",
       "    </tr>\n",
       "    <tr>\n",
       "      <th>5</th>\n",
       "      <td>77</td>\n",
       "      <td>2</td>\n",
       "      <td>tous les jours</td>\n",
       "      <td>gauche</td>\n",
       "      <td>6511</td>\n",
       "      <td>[61, 81)</td>\n",
       "    </tr>\n",
       "  </tbody>\n",
       "</table>\n",
       "</div>"
      ],
      "text/plain": [
       "    age  n_foyer    lecture_journal      parti  revenu_mensuel generation\n",
       "id                                                                       \n",
       "1    44        3  de temps en temps     droite            9660   [41, 61)\n",
       "2    45        1     tous les jours     droite            7364   [41, 61)\n",
       "3    54        3  de temps en temps     droite            8947   [41, 61)\n",
       "4    86        2     tous les jours  populiste            6317  [81, 101)\n",
       "5    77        2     tous les jours     gauche            6511   [61, 81)"
      ]
     },
     "execution_count": 22,
     "metadata": {},
     "output_type": "execute_result"
    }
   ],
   "source": [
    "### Créer une copie indépendante du DataFrame (attention aux copies de variables qui sont seulement des alias) \n",
    "# et coder les années de naissance en relation avec les générations\n",
    "## fonction pd.cut : https://pandas.pydata.org/pandas-docs/stable/reference/api/pandas.cut.html\n",
    "\n",
    "generations = [0, 21, 41, 61, 81, 101]\n",
    "c_obs = obs.copy(deep=True)\n",
    "c_obs['generation'] = pd.cut(c_obs['age'], generations, right=False)\n",
    "# Inspection\n",
    "c_obs.head()"
   ]
  },
  {
   "cell_type": "code",
   "execution_count": 23,
   "id": "combined-pavilion",
   "metadata": {},
   "outputs": [
    {
     "data": {
      "text/html": [
       "<div>\n",
       "<style scoped>\n",
       "    .dataframe tbody tr th:only-of-type {\n",
       "        vertical-align: middle;\n",
       "    }\n",
       "\n",
       "    .dataframe tbody tr th {\n",
       "        vertical-align: top;\n",
       "    }\n",
       "\n",
       "    .dataframe thead th {\n",
       "        text-align: right;\n",
       "    }\n",
       "</style>\n",
       "<table border=\"1\" class=\"dataframe\">\n",
       "  <thead>\n",
       "    <tr style=\"text-align: right;\">\n",
       "      <th></th>\n",
       "      <th>age</th>\n",
       "      <th>n_foyer</th>\n",
       "      <th>lecture_journal</th>\n",
       "      <th>parti</th>\n",
       "      <th>revenu_mensuel</th>\n",
       "      <th>generation</th>\n",
       "    </tr>\n",
       "    <tr>\n",
       "      <th>id</th>\n",
       "      <th></th>\n",
       "      <th></th>\n",
       "      <th></th>\n",
       "      <th></th>\n",
       "      <th></th>\n",
       "      <th></th>\n",
       "    </tr>\n",
       "  </thead>\n",
       "  <tbody>\n",
       "    <tr>\n",
       "      <th>1</th>\n",
       "      <td>44</td>\n",
       "      <td>3</td>\n",
       "      <td>de temps en temps</td>\n",
       "      <td>droite</td>\n",
       "      <td>9660</td>\n",
       "      <td>41-61</td>\n",
       "    </tr>\n",
       "    <tr>\n",
       "      <th>2</th>\n",
       "      <td>45</td>\n",
       "      <td>1</td>\n",
       "      <td>tous les jours</td>\n",
       "      <td>droite</td>\n",
       "      <td>7364</td>\n",
       "      <td>41-61</td>\n",
       "    </tr>\n",
       "    <tr>\n",
       "      <th>3</th>\n",
       "      <td>54</td>\n",
       "      <td>3</td>\n",
       "      <td>de temps en temps</td>\n",
       "      <td>droite</td>\n",
       "      <td>8947</td>\n",
       "      <td>41-61</td>\n",
       "    </tr>\n",
       "    <tr>\n",
       "      <th>4</th>\n",
       "      <td>86</td>\n",
       "      <td>2</td>\n",
       "      <td>tous les jours</td>\n",
       "      <td>populiste</td>\n",
       "      <td>6317</td>\n",
       "      <td>81-101</td>\n",
       "    </tr>\n",
       "    <tr>\n",
       "      <th>5</th>\n",
       "      <td>77</td>\n",
       "      <td>2</td>\n",
       "      <td>tous les jours</td>\n",
       "      <td>gauche</td>\n",
       "      <td>6511</td>\n",
       "      <td>61-81</td>\n",
       "    </tr>\n",
       "  </tbody>\n",
       "</table>\n",
       "</div>"
      ],
      "text/plain": [
       "    age  n_foyer    lecture_journal      parti  revenu_mensuel generation\n",
       "id                                                                       \n",
       "1    44        3  de temps en temps     droite            9660      41-61\n",
       "2    45        1     tous les jours     droite            7364      41-61\n",
       "3    54        3  de temps en temps     droite            8947      41-61\n",
       "4    86        2     tous les jours  populiste            6317     81-101\n",
       "5    77        2     tous les jours     gauche            6511      61-81"
      ]
     },
     "execution_count": 23,
     "metadata": {},
     "output_type": "execute_result"
    }
   ],
   "source": [
    "### Transformer le code ajouté pour qu'il soit plus lisible\n",
    "c_obs['generation'] = c_obs['generation'].apply(lambda row : str(int(row.left))+'-'+str(int(row.right)))\n",
    "c_obs.head()"
   ]
  },
  {
   "cell_type": "code",
   "execution_count": 24,
   "id": "wanted-hebrew",
   "metadata": {},
   "outputs": [
    {
     "data": {
      "text/html": [
       "<div>\n",
       "<style scoped>\n",
       "    .dataframe tbody tr th:only-of-type {\n",
       "        vertical-align: middle;\n",
       "    }\n",
       "\n",
       "    .dataframe tbody tr th {\n",
       "        vertical-align: top;\n",
       "    }\n",
       "\n",
       "    .dataframe thead th {\n",
       "        text-align: right;\n",
       "    }\n",
       "</style>\n",
       "<table border=\"1\" class=\"dataframe\">\n",
       "  <thead>\n",
       "    <tr style=\"text-align: right;\">\n",
       "      <th></th>\n",
       "      <th>effectif</th>\n",
       "    </tr>\n",
       "    <tr>\n",
       "      <th>generation</th>\n",
       "      <th></th>\n",
       "    </tr>\n",
       "  </thead>\n",
       "  <tbody>\n",
       "    <tr>\n",
       "      <th>0-21</th>\n",
       "      <td>7</td>\n",
       "    </tr>\n",
       "    <tr>\n",
       "      <th>21-41</th>\n",
       "      <td>47</td>\n",
       "    </tr>\n",
       "    <tr>\n",
       "      <th>41-61</th>\n",
       "      <td>33</td>\n",
       "    </tr>\n",
       "    <tr>\n",
       "      <th>61-81</th>\n",
       "      <td>33</td>\n",
       "    </tr>\n",
       "    <tr>\n",
       "      <th>81-101</th>\n",
       "      <td>10</td>\n",
       "    </tr>\n",
       "  </tbody>\n",
       "</table>\n",
       "</div>"
      ],
      "text/plain": [
       "            effectif\n",
       "generation          \n",
       "0-21               7\n",
       "21-41             47\n",
       "41-61             33\n",
       "61-81             33\n",
       "81-101            10"
      ]
     },
     "execution_count": 24,
     "metadata": {},
     "output_type": "execute_result"
    }
   ],
   "source": [
    "### Alternative : regrouper et compter par génération avec la fonction Pandas 'groupby' (équivalente à la précédente)\n",
    "gb_generation = pd.DataFrame(c_obs.groupby('generation').size())\n",
    "gb_generation.columns = ['effectif']\n",
    "gb_generation"
   ]
  },
  {
   "cell_type": "code",
   "execution_count": 25,
   "id": "hundred-understanding",
   "metadata": {
    "tags": []
   },
   "outputs": [
    {
     "data": {
      "image/png": "[encoded data removed]",
      "text/plain": [
       "<Figure size 1152x576 with 1 Axes>"
      ]
     },
     "metadata": {
      "needs_background": "light"
     },
     "output_type": "display_data"
    }
   ],
   "source": [
    "# Distribution par période de 20 ans – cf. dbpedia_analyse_nationalites pour la visualisation interactive des nationalités\n",
    "\n",
    "objects = [l for l in gb_generation.index]\n",
    "eff = [l for l in gb_generation['effectif']]\n",
    "\n",
    "p1 = plt.bar(objects, eff)\n",
    "\n",
    "plt.ylabel('Effectif')\n",
    "plt.title('Naissances par période de vingts ans')\n",
    "plt.gcf().set_size_inches(16, 8)\n",
    "# supported formats: eps, pdf, pgf, png, ps, raw, rgba, svg, svgz\n",
    "# plt.savefig('exported_pictures/effectifs_annees_reference_par_periode.png', dpi=100, bbox_inches = \"tight\") #pdf, svg\n",
    "plt.xticks(rotation=45)\n",
    "plt.show()\n"
   ]
  },
  {
   "cell_type": "markdown",
   "id": "silver-packing",
   "metadata": {},
   "source": [
    "### Comparaison de deux variables quantiatives"
   ]
  },
  {
   "cell_type": "code",
   "execution_count": 26,
   "id": "labeled-measure",
   "metadata": {},
   "outputs": [
    {
     "data": {
      "text/html": [
       "<div>\n",
       "<style scoped>\n",
       "    .dataframe tbody tr th:only-of-type {\n",
       "        vertical-align: middle;\n",
       "    }\n",
       "\n",
       "    .dataframe tbody tr th {\n",
       "        vertical-align: top;\n",
       "    }\n",
       "\n",
       "    .dataframe thead th {\n",
       "        text-align: right;\n",
       "    }\n",
       "</style>\n",
       "<table border=\"1\" class=\"dataframe\">\n",
       "  <thead>\n",
       "    <tr style=\"text-align: right;\">\n",
       "      <th></th>\n",
       "      <th>age</th>\n",
       "      <th>n_foyer</th>\n",
       "      <th>lecture_journal</th>\n",
       "      <th>parti</th>\n",
       "      <th>revenu_mensuel</th>\n",
       "    </tr>\n",
       "    <tr>\n",
       "      <th>id</th>\n",
       "      <th></th>\n",
       "      <th></th>\n",
       "      <th></th>\n",
       "      <th></th>\n",
       "      <th></th>\n",
       "    </tr>\n",
       "  </thead>\n",
       "  <tbody>\n",
       "    <tr>\n",
       "      <th>1</th>\n",
       "      <td>44</td>\n",
       "      <td>3</td>\n",
       "      <td>de temps en temps</td>\n",
       "      <td>droite</td>\n",
       "      <td>9660</td>\n",
       "    </tr>\n",
       "    <tr>\n",
       "      <th>2</th>\n",
       "      <td>45</td>\n",
       "      <td>1</td>\n",
       "      <td>tous les jours</td>\n",
       "      <td>droite</td>\n",
       "      <td>7364</td>\n",
       "    </tr>\n",
       "    <tr>\n",
       "      <th>3</th>\n",
       "      <td>54</td>\n",
       "      <td>3</td>\n",
       "      <td>de temps en temps</td>\n",
       "      <td>droite</td>\n",
       "      <td>8947</td>\n",
       "    </tr>\n",
       "    <tr>\n",
       "      <th>4</th>\n",
       "      <td>86</td>\n",
       "      <td>2</td>\n",
       "      <td>tous les jours</td>\n",
       "      <td>populiste</td>\n",
       "      <td>6317</td>\n",
       "    </tr>\n",
       "    <tr>\n",
       "      <th>5</th>\n",
       "      <td>77</td>\n",
       "      <td>2</td>\n",
       "      <td>tous les jours</td>\n",
       "      <td>gauche</td>\n",
       "      <td>6511</td>\n",
       "    </tr>\n",
       "  </tbody>\n",
       "</table>\n",
       "</div>"
      ],
      "text/plain": [
       "    age  n_foyer    lecture_journal      parti  revenu_mensuel\n",
       "id                                                            \n",
       "1    44        3  de temps en temps     droite            9660\n",
       "2    45        1     tous les jours     droite            7364\n",
       "3    54        3  de temps en temps     droite            8947\n",
       "4    86        2     tous les jours  populiste            6317\n",
       "5    77        2     tous les jours     gauche            6511"
      ]
     },
     "execution_count": 26,
     "metadata": {},
     "output_type": "execute_result"
    }
   ],
   "source": [
    "obs.head()"
   ]
  },
  {
   "cell_type": "code",
   "execution_count": 27,
   "id": "accepting-martin",
   "metadata": {},
   "outputs": [
    {
     "data": {
      "text/plain": [
       "count    130.000000\n",
       "mean       2.153846\n",
       "std        1.171109\n",
       "min        1.000000\n",
       "25%        1.000000\n",
       "50%        2.000000\n",
       "75%        3.000000\n",
       "max        6.000000\n",
       "Name: n_foyer, dtype: float64"
      ]
     },
     "execution_count": 27,
     "metadata": {},
     "output_type": "execute_result"
    }
   ],
   "source": [
    "obs['n_foyer'].describe()"
   ]
  },
  {
   "cell_type": "code",
   "execution_count": 28,
   "id": "numerous-plymouth",
   "metadata": {},
   "outputs": [
    {
     "data": {
      "text/plain": [
       "<AxesSubplot:>"
      ]
     },
     "execution_count": 28,
     "metadata": {},
     "output_type": "execute_result"
    },
    {
     "data": {
      "image/png": "[encoded data removed]",
      "text/plain": [
       "<Figure size 1152x288 with 1 Axes>"
      ]
     },
     "metadata": {
      "needs_background": "light"
     },
     "output_type": "display_data"
    }
   ],
   "source": [
    "obs.boxplot(column=['n_foyer'], vert=False, figsize=(16,4))"
   ]
  },
  {
   "cell_type": "code",
   "execution_count": 29,
   "id": "excess-assurance",
   "metadata": {},
   "outputs": [
    {
     "data": {
      "text/plain": [
       "count      130.000000\n",
       "mean      7004.684615\n",
       "std       2528.858857\n",
       "min       1400.000000\n",
       "25%       5007.000000\n",
       "50%       7331.500000\n",
       "75%       8996.750000\n",
       "max      11728.000000\n",
       "Name: revenu_mensuel, dtype: float64"
      ]
     },
     "execution_count": 29,
     "metadata": {},
     "output_type": "execute_result"
    }
   ],
   "source": [
    "obs['revenu_mensuel'].describe()"
   ]
  },
  {
   "cell_type": "code",
   "execution_count": 30,
   "id": "egyptian-theme",
   "metadata": {},
   "outputs": [
    {
     "data": {
      "text/plain": [
       "<AxesSubplot:>"
      ]
     },
     "execution_count": 30,
     "metadata": {},
     "output_type": "execute_result"
    },
    {
     "data": {
      "image/png": "[encoded data removed]",
      "text/plain": [
       "<Figure size 1152x288 with 1 Axes>"
      ]
     },
     "metadata": {
      "needs_background": "light"
     },
     "output_type": "display_data"
    }
   ],
   "source": [
    "obs.boxplot(column=['revenu_mensuel'], vert=False, figsize=(16,4))"
   ]
  },
  {
   "cell_type": "code",
   "execution_count": null,
   "id": "printable-agency",
   "metadata": {},
   "outputs": [],
   "source": []
  },
  {
   "cell_type": "code",
   "execution_count": 31,
   "id": "daily-evans",
   "metadata": {},
   "outputs": [
    {
     "data": {
      "text/plain": [
       "[<matplotlib.lines.Line2D at 0x15b8ac7b8>]"
      ]
     },
     "execution_count": 31,
     "metadata": {},
     "output_type": "execute_result"
    },
    {
     "data": {
      "image/png": "[encoded data removed]",
      "text/plain": [
       "<Figure size 720x360 with 1 Axes>"
      ]
     },
     "metadata": {
      "needs_background": "light"
     },
     "output_type": "display_data"
    }
   ],
   "source": [
    "##\n",
    "# https://www.kite.com/python/answers/how-to-plot-a-linear-regression-line-on-a-scatter-plot-in-python\n",
    "\n",
    "x = np.array(obs['age'])\n",
    "y = np.array(obs['revenu_mensuel'])\n",
    "\n",
    "plt.rcParams[\"figure.figsize\"] = [10, 5]\n",
    "\n",
    "plt.plot(x, y, 'o')\n",
    "plt.title(\"Comparaison de l'âge et des revenus\")\n",
    "\n",
    "\n",
    "# m = slope, b=intercept\n",
    "m, b = np.polyfit(x, y, 1)\n",
    "\n",
    "plt.plot(x, m*x + b)\n"
   ]
  },
  {
   "cell_type": "code",
   "execution_count": 32,
   "id": "portuguese-celebration",
   "metadata": {},
   "outputs": [
    {
     "data": {
      "text/plain": [
       "0.08430365209492545"
      ]
     },
     "execution_count": 32,
     "metadata": {},
     "output_type": "execute_result"
    }
   ],
   "source": [
    "### Coéfficient de corrélation de Pearsons\n",
    "# https://numpy.org/doc/stable/reference/generated/numpy.corrcoef.html\n",
    "np.corrcoef([x,y])[1][0]"
   ]
  },
  {
   "cell_type": "code",
   "execution_count": 33,
   "id": "white-nurse",
   "metadata": {},
   "outputs": [
    {
     "data": {
      "text/plain": [
       "[<matplotlib.lines.Line2D at 0x15baec978>]"
      ]
     },
     "execution_count": 33,
     "metadata": {},
     "output_type": "execute_result"
    },
    {
     "data": {
      "image/png": "[encoded data removed]",
      "text/plain": [
       "<Figure size 720x360 with 1 Axes>"
      ]
     },
     "metadata": {
      "needs_background": "light"
     },
     "output_type": "display_data"
    }
   ],
   "source": [
    "x = np.array(obs['n_foyer'])\n",
    "y = np.array(obs['revenu_mensuel'])\n",
    "\n",
    "plt.rcParams[\"figure.figsize\"] = [10, 5]\n",
    "\n",
    "plt.plot(x, y, 'o')\n",
    "\n",
    "\n",
    "# m = slope, b=intercept\n",
    "m, b = np.polyfit(x, y, 1)\n",
    "\n",
    "plt.plot(x, m*x + b)"
   ]
  },
  {
   "cell_type": "code",
   "execution_count": 35,
   "id": "suffering-knife",
   "metadata": {},
   "outputs": [
    {
     "data": {
      "text/plain": [
       "0.3725719117996519"
      ]
     },
     "execution_count": 35,
     "metadata": {},
     "output_type": "execute_result"
    }
   ],
   "source": [
    "np.corrcoef([x,y])[0][1]"
   ]
  },
  {
   "cell_type": "code",
   "execution_count": null,
   "id": "fifty-upset",
   "metadata": {},
   "outputs": [],
   "source": []
  },
  {
   "cell_type": "code",
   "execution_count": 36,
   "id": "designed-wrong",
   "metadata": {},
   "outputs": [
    {
     "data": {
      "text/plain": [
       "Text(0, 0.5, 'Parti politique')"
      ]
     },
     "execution_count": 36,
     "metadata": {},
     "output_type": "execute_result"
    },
    {
     "data": {
      "image/png": "[encoded data removed]",
      "text/plain": [
       "<Figure size 1152x288 with 1 Axes>"
      ]
     },
     "metadata": {
      "needs_background": "light"
     },
     "output_type": "display_data"
    }
   ],
   "source": [
    "axes = obs.boxplot(column=['revenu_mensuel'],by=['parti'], vert=False, figsize=(16,4))\n",
    "\n",
    "fig = axes.get_figure()\n",
    "\n",
    "fig.suptitle('')\n",
    "    \n",
    "axes.set_title('Distribution des revenus par parti politique')\n",
    "\n",
    "axes.set_xlabel('Revenu')\n",
    "axes.set_ylabel('Parti politique')\n"
   ]
  },
  {
   "cell_type": "code",
   "execution_count": 37,
   "id": "agricultural-latvia",
   "metadata": {},
   "outputs": [
    {
     "data": {
      "text/plain": [
       "count       27.000000\n",
       "mean      7038.074074\n",
       "std       2599.633553\n",
       "min       2500.000000\n",
       "25%       5321.000000\n",
       "50%       6453.000000\n",
       "75%       9388.500000\n",
       "max      11728.000000\n",
       "Name: revenu_mensuel, dtype: float64"
      ]
     },
     "execution_count": 37,
     "metadata": {},
     "output_type": "execute_result"
    }
   ],
   "source": [
    "obs[obs['parti'] == 'populiste']['revenu_mensuel'].describe()"
   ]
  },
  {
   "cell_type": "code",
   "execution_count": null,
   "id": "entire-canyon",
   "metadata": {},
   "outputs": [],
   "source": []
  }
 ],
 "metadata": {
  "kernelspec": {
   "display_name": "py37sparql",
   "language": "python",
   "name": "py37sparql"
  },
  "language_info": {
   "codemirror_mode": {
    "name": "ipython",
    "version": 3
   },
   "file_extension": ".py",
   "mimetype": "text/x-python",
   "name": "python",
   "nbconvert_exporter": "python",
   "pygments_lexer": "ipython3",
   "version": "3.7.3"
  }
 },
 "nbformat": 4,
 "nbformat_minor": 5
}
