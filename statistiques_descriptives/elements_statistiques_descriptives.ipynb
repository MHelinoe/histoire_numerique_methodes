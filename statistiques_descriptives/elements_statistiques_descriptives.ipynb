{
 "cells": [
  {
   "cell_type": "code",
   "execution_count": null,
   "id": "polished-algebra",
   "metadata": {},
   "outputs": [],
   "source": []
  },
  {
   "cell_type": "markdown",
   "id": "enabling-proxy",
   "metadata": {},
   "source": [
    "## Importer les librairies nécessaires"
   ]
  },
  {
   "cell_type": "code",
   "execution_count": 1,
   "id": "enhanced-price",
   "metadata": {},
   "outputs": [],
   "source": [
    "import random\n",
    "import pandas as pd\n",
    "import matplotlib.pyplot as plt"
   ]
  },
  {
   "cell_type": "markdown",
   "id": "amber-screw",
   "metadata": {},
   "source": [
    "## Références bibliographiques\n",
    "\n",
    "\n",
    "* Hamon : Hamon Philippe, Hamon Agnès, et Jégou Nicolas, _Statistique descriptive. Cours et exercices corrigés_, Rennes, PUR, 2008.\n",
    "* Saly : Saly Pierre, _Méthodes statistiques descriptives pour les historiens_, Paris, A. Colin, 1991.\n",
    "\n"
   ]
  },
  {
   "cell_type": "code",
   "execution_count": null,
   "id": "varied-borough",
   "metadata": {},
   "outputs": [],
   "source": []
  },
  {
   "cell_type": "markdown",
   "id": "younger-domain",
   "metadata": {},
   "source": [
    "## Produire les observations\n",
    "\n",
    "Cf. Hamon, p.4, tableau 1.1\n",
    "\n",
    "Afin de reproduire ce tableau, on utilise des fonctions produisant des valeur aléatoires.\n",
    "\n",
    "* On produit d'abord les valeurs aléatoires (remplaçant les observations) pour chaque variable\n",
    "* On les regroupe ensuite dans un dataframe Pandas"
   ]
  },
  {
   "cell_type": "code",
   "execution_count": 20,
   "id": "varied-digest",
   "metadata": {},
   "outputs": [
    {
     "name": "stdout",
     "output_type": "stream",
     "text": [
      "[896, 897, 898, 899, 900]\n"
     ]
    },
    {
     "data": {
      "text/plain": [
       "900"
      ]
     },
     "execution_count": 20,
     "metadata": {},
     "output_type": "execute_result"
    }
   ],
   "source": [
    "### Créer une liste d'identifiants\n",
    "id_list = []\n",
    "[id_list.append(x) for x in range(1,901)] #\n",
    "\n",
    "print(id_list[-5:])\n",
    "len(id_list)"
   ]
  },
  {
   "cell_type": "code",
   "execution_count": 21,
   "id": "informal-incident",
   "metadata": {},
   "outputs": [
    {
     "name": "stdout",
     "output_type": "stream",
     "text": [
      "[87, 31, 79, 36, 75]\n"
     ]
    },
    {
     "data": {
      "text/plain": [
       "900"
      ]
     },
     "execution_count": 21,
     "metadata": {},
     "output_type": "execute_result"
    }
   ],
   "source": [
    "### Créer une liste d'âges\n",
    "age_list = []\n",
    "for x in range(1,901): # 101\n",
    "    age_list.append(random.randint(18,90))\n",
    "\n",
    "print(age_list[:5])\n",
    "len(age_list)"
   ]
  },
  {
   "cell_type": "code",
   "execution_count": 22,
   "id": "noble-cherry",
   "metadata": {},
   "outputs": [
    {
     "name": "stdout",
     "output_type": "stream",
     "text": [
      "[7, 4, 5, 3, 4]\n"
     ]
    },
    {
     "data": {
      "text/plain": [
       "900"
      ]
     },
     "execution_count": 22,
     "metadata": {},
     "output_type": "execute_result"
    }
   ],
   "source": [
    "### Créer une liste de nombre de personne dans un foyer\n",
    "nfoyer_list = []\n",
    "for x in range(1,901):  # 101\n",
    "    nfoyer_list.append(random.randint(1,7))\n",
    "\n",
    "print(nfoyer_list[:5])\n",
    "len(nfoyer_list)"
   ]
  },
  {
   "cell_type": "code",
   "execution_count": 23,
   "id": "conventional-laundry",
   "metadata": {},
   "outputs": [
    {
     "name": "stdout",
     "output_type": "stream",
     "text": [
      "['deux-trois fois par semaine', 'de temps en temps', 'deux-trois fois par semaine', 'le week-end', 'deux-trois fois par semaine']\n"
     ]
    },
    {
     "data": {
      "text/plain": [
       "900"
      ]
     },
     "execution_count": 23,
     "metadata": {},
     "output_type": "execute_result"
    }
   ],
   "source": [
    "### Créer une liste de fréquences de lecture des journaux\n",
    "lecture_list = []\n",
    "for x in range(1,901):  # 101\n",
    "    lecture_list.append(random.choice(['tous les jours', 'de temps en temps', 'très rarement', 'deux-trois fois par semaine', 'le week-end']))\n",
    "\n",
    "print(lecture_list[:5])\n",
    "len(lecture_list)"
   ]
  },
  {
   "cell_type": "code",
   "execution_count": 24,
   "id": "attended-electron",
   "metadata": {},
   "outputs": [
    {
     "name": "stdout",
     "output_type": "stream",
     "text": [
      "['populiste', 'gauche', 'populiste', 'écologiste', 'gauche']\n"
     ]
    },
    {
     "data": {
      "text/plain": [
       "900"
      ]
     },
     "execution_count": 24,
     "metadata": {},
     "output_type": "execute_result"
    }
   ],
   "source": [
    "### Créer une liste d'orientations politiques\n",
    "politique_list = []\n",
    "for x in range(1,901):  # 101\n",
    "    politique_list.append(random.choice(['gauche', 'écologiste', 'droite', 'centre', 'populiste']))\n",
    "\n",
    "print(politique_list[:5])\n",
    "len(politique_list)"
   ]
  },
  {
   "cell_type": "markdown",
   "id": "trying-scheduling",
   "metadata": {},
   "source": [
    "### Création du dataframe"
   ]
  },
  {
   "cell_type": "code",
   "execution_count": 25,
   "id": "rotary-virgin",
   "metadata": {},
   "outputs": [],
   "source": [
    "#  https://www.statology.org/add-column-pandas-dataframe/\n",
    "\n",
    "observations = pd.DataFrame({'id' : id_list, 'age' : age_list, 'n_foyer' : nfoyer_list, \n",
    "                             'lecture_journal' : lecture_list, 'parti' : politique_list})"
   ]
  },
  {
   "cell_type": "code",
   "execution_count": 26,
   "id": "turned-magnet",
   "metadata": {},
   "outputs": [
    {
     "name": "stdout",
     "output_type": "stream",
     "text": [
      "900\n"
     ]
    },
    {
     "data": {
      "text/html": [
       "<div>\n",
       "<style scoped>\n",
       "    .dataframe tbody tr th:only-of-type {\n",
       "        vertical-align: middle;\n",
       "    }\n",
       "\n",
       "    .dataframe tbody tr th {\n",
       "        vertical-align: top;\n",
       "    }\n",
       "\n",
       "    .dataframe thead th {\n",
       "        text-align: right;\n",
       "    }\n",
       "</style>\n",
       "<table border=\"1\" class=\"dataframe\">\n",
       "  <thead>\n",
       "    <tr style=\"text-align: right;\">\n",
       "      <th></th>\n",
       "      <th>id</th>\n",
       "      <th>age</th>\n",
       "      <th>n_foyer</th>\n",
       "      <th>lecture_journal</th>\n",
       "      <th>parti</th>\n",
       "    </tr>\n",
       "  </thead>\n",
       "  <tbody>\n",
       "    <tr>\n",
       "      <th>0</th>\n",
       "      <td>1</td>\n",
       "      <td>87</td>\n",
       "      <td>7</td>\n",
       "      <td>deux-trois fois par semaine</td>\n",
       "      <td>populiste</td>\n",
       "    </tr>\n",
       "    <tr>\n",
       "      <th>1</th>\n",
       "      <td>2</td>\n",
       "      <td>31</td>\n",
       "      <td>4</td>\n",
       "      <td>de temps en temps</td>\n",
       "      <td>gauche</td>\n",
       "    </tr>\n",
       "    <tr>\n",
       "      <th>2</th>\n",
       "      <td>3</td>\n",
       "      <td>79</td>\n",
       "      <td>5</td>\n",
       "      <td>deux-trois fois par semaine</td>\n",
       "      <td>populiste</td>\n",
       "    </tr>\n",
       "    <tr>\n",
       "      <th>3</th>\n",
       "      <td>4</td>\n",
       "      <td>36</td>\n",
       "      <td>3</td>\n",
       "      <td>le week-end</td>\n",
       "      <td>écologiste</td>\n",
       "    </tr>\n",
       "    <tr>\n",
       "      <th>4</th>\n",
       "      <td>5</td>\n",
       "      <td>75</td>\n",
       "      <td>4</td>\n",
       "      <td>deux-trois fois par semaine</td>\n",
       "      <td>gauche</td>\n",
       "    </tr>\n",
       "  </tbody>\n",
       "</table>\n",
       "</div>"
      ],
      "text/plain": [
       "   id  age  n_foyer              lecture_journal       parti\n",
       "0   1   87        7  deux-trois fois par semaine   populiste\n",
       "1   2   31        4            de temps en temps      gauche\n",
       "2   3   79        5  deux-trois fois par semaine   populiste\n",
       "3   4   36        3                  le week-end  écologiste\n",
       "4   5   75        4  deux-trois fois par semaine      gauche"
      ]
     },
     "execution_count": 26,
     "metadata": {},
     "output_type": "execute_result"
    }
   ],
   "source": [
    "print(len(observations))\n",
    "observations.head()"
   ]
  },
  {
   "cell_type": "code",
   "execution_count": 27,
   "id": "vertical-technician",
   "metadata": {},
   "outputs": [
    {
     "data": {
      "text/html": [
       "<div>\n",
       "<style scoped>\n",
       "    .dataframe tbody tr th:only-of-type {\n",
       "        vertical-align: middle;\n",
       "    }\n",
       "\n",
       "    .dataframe tbody tr th {\n",
       "        vertical-align: top;\n",
       "    }\n",
       "\n",
       "    .dataframe thead th {\n",
       "        text-align: right;\n",
       "    }\n",
       "</style>\n",
       "<table border=\"1\" class=\"dataframe\">\n",
       "  <thead>\n",
       "    <tr style=\"text-align: right;\">\n",
       "      <th></th>\n",
       "      <th>age</th>\n",
       "      <th>n_foyer</th>\n",
       "      <th>lecture_journal</th>\n",
       "      <th>parti</th>\n",
       "    </tr>\n",
       "    <tr>\n",
       "      <th>id</th>\n",
       "      <th></th>\n",
       "      <th></th>\n",
       "      <th></th>\n",
       "      <th></th>\n",
       "    </tr>\n",
       "  </thead>\n",
       "  <tbody>\n",
       "    <tr>\n",
       "      <th>1</th>\n",
       "      <td>87</td>\n",
       "      <td>7</td>\n",
       "      <td>deux-trois fois par semaine</td>\n",
       "      <td>populiste</td>\n",
       "    </tr>\n",
       "    <tr>\n",
       "      <th>2</th>\n",
       "      <td>31</td>\n",
       "      <td>4</td>\n",
       "      <td>de temps en temps</td>\n",
       "      <td>gauche</td>\n",
       "    </tr>\n",
       "    <tr>\n",
       "      <th>3</th>\n",
       "      <td>79</td>\n",
       "      <td>5</td>\n",
       "      <td>deux-trois fois par semaine</td>\n",
       "      <td>populiste</td>\n",
       "    </tr>\n",
       "    <tr>\n",
       "      <th>4</th>\n",
       "      <td>36</td>\n",
       "      <td>3</td>\n",
       "      <td>le week-end</td>\n",
       "      <td>écologiste</td>\n",
       "    </tr>\n",
       "    <tr>\n",
       "      <th>5</th>\n",
       "      <td>75</td>\n",
       "      <td>4</td>\n",
       "      <td>deux-trois fois par semaine</td>\n",
       "      <td>gauche</td>\n",
       "    </tr>\n",
       "  </tbody>\n",
       "</table>\n",
       "</div>"
      ],
      "text/plain": [
       "    age  n_foyer              lecture_journal       parti\n",
       "id                                                       \n",
       "1    87        7  deux-trois fois par semaine   populiste\n",
       "2    31        4            de temps en temps      gauche\n",
       "3    79        5  deux-trois fois par semaine   populiste\n",
       "4    36        3                  le week-end  écologiste\n",
       "5    75        4  deux-trois fois par semaine      gauche"
      ]
     },
     "execution_count": 27,
     "metadata": {},
     "output_type": "execute_result"
    }
   ],
   "source": [
    "observations.set_index('id', inplace=True)\n",
    "observations.head()"
   ]
  },
  {
   "cell_type": "code",
   "execution_count": 28,
   "id": "considered-peeing",
   "metadata": {},
   "outputs": [],
   "source": [
    "### Ecrire le fichier sur le disque afin de le corriger manuellement\n",
    "\n",
    "path = 'data/observations_900.csv'\n",
    "observations.to_csv(path)"
   ]
  },
  {
   "cell_type": "code",
   "execution_count": 3,
   "id": "communist-concert",
   "metadata": {},
   "outputs": [
    {
     "data": {
      "text/html": [
       "<div>\n",
       "<style scoped>\n",
       "    .dataframe tbody tr th:only-of-type {\n",
       "        vertical-align: middle;\n",
       "    }\n",
       "\n",
       "    .dataframe tbody tr th {\n",
       "        vertical-align: top;\n",
       "    }\n",
       "\n",
       "    .dataframe thead th {\n",
       "        text-align: right;\n",
       "    }\n",
       "</style>\n",
       "<table border=\"1\" class=\"dataframe\">\n",
       "  <thead>\n",
       "    <tr style=\"text-align: right;\">\n",
       "      <th></th>\n",
       "      <th>age</th>\n",
       "      <th>n_foyer</th>\n",
       "      <th>lecture_journal</th>\n",
       "      <th>parti</th>\n",
       "    </tr>\n",
       "    <tr>\n",
       "      <th>id</th>\n",
       "      <th></th>\n",
       "      <th></th>\n",
       "      <th></th>\n",
       "      <th></th>\n",
       "    </tr>\n",
       "  </thead>\n",
       "  <tbody>\n",
       "    <tr>\n",
       "      <th>1</th>\n",
       "      <td>44</td>\n",
       "      <td>3</td>\n",
       "      <td>de temps en temps</td>\n",
       "      <td>droite</td>\n",
       "    </tr>\n",
       "    <tr>\n",
       "      <th>2</th>\n",
       "      <td>45</td>\n",
       "      <td>4</td>\n",
       "      <td>tous les jours</td>\n",
       "      <td>droite</td>\n",
       "    </tr>\n",
       "    <tr>\n",
       "      <th>3</th>\n",
       "      <td>54</td>\n",
       "      <td>3</td>\n",
       "      <td>de temps en temps</td>\n",
       "      <td>droite</td>\n",
       "    </tr>\n",
       "    <tr>\n",
       "      <th>4</th>\n",
       "      <td>86</td>\n",
       "      <td>6</td>\n",
       "      <td>tous les jours</td>\n",
       "      <td>écologiste</td>\n",
       "    </tr>\n",
       "    <tr>\n",
       "      <th>5</th>\n",
       "      <td>77</td>\n",
       "      <td>4</td>\n",
       "      <td>tous les jours</td>\n",
       "      <td>gauche</td>\n",
       "    </tr>\n",
       "  </tbody>\n",
       "</table>\n",
       "</div>"
      ],
      "text/plain": [
       "    age  n_foyer    lecture_journal       parti\n",
       "id                                             \n",
       "1    44        3  de temps en temps      droite\n",
       "2    45        4     tous les jours      droite\n",
       "3    54        3  de temps en temps      droite\n",
       "4    86        6     tous les jours  écologiste\n",
       "5    77        4     tous les jours      gauche"
      ]
     },
     "execution_count": 3,
     "metadata": {},
     "output_type": "execute_result"
    }
   ],
   "source": [
    "### Lire le fichier corrigé manuellement\n",
    "\n",
    "path = 'data/observations_mod.csv'\n",
    "observations_mod = pd.read_csv(path)\n",
    "observations_mod.set_index('id', inplace=True)\n",
    "observations_mod.head()"
   ]
  },
  {
   "cell_type": "markdown",
   "id": "experienced-salem",
   "metadata": {},
   "source": [
    "## Analyser les observations\n",
    "\n",
    "* Regrouper et inspecter : la distribution\n",
    "* Afficher et analyser : les graphiques"
   ]
  },
  {
   "cell_type": "code",
   "execution_count": 29,
   "id": "damaged-string",
   "metadata": {},
   "outputs": [],
   "source": [
    "# obs = observations_mod\n",
    "obs = observations # 900"
   ]
  },
  {
   "cell_type": "code",
   "execution_count": 30,
   "id": "documentary-curtis",
   "metadata": {},
   "outputs": [
    {
     "data": {
      "text/plain": [
       "lecture_journal\n",
       "le week-end                    162\n",
       "tous les jours                 172\n",
       "deux-trois fois par semaine    179\n",
       "très rarement                  179\n",
       "de temps en temps              208\n",
       "dtype: int64"
      ]
     },
     "execution_count": 30,
     "metadata": {},
     "output_type": "execute_result"
    }
   ],
   "source": [
    "### Regrouper et compter par fréquence de lecture du journal (variable qualitative)\n",
    "gb_lecture_journal = obs.groupby('lecture_journal').size()\n",
    "sgb_lecture_journal = gb_lecture_journal.sort_values(ascending = True)\n",
    "sgb_lecture_journal"
   ]
  },
  {
   "cell_type": "code",
   "execution_count": 31,
   "id": "outer-spread",
   "metadata": {},
   "outputs": [
    {
     "data": {
      "text/plain": [
       "parti\n",
       "centre        161\n",
       "gauche        169\n",
       "populiste     187\n",
       "écologiste    190\n",
       "droite        193\n",
       "dtype: int64"
      ]
     },
     "execution_count": 31,
     "metadata": {},
     "output_type": "execute_result"
    }
   ],
   "source": [
    "### Regrouper et compter\n",
    "gb_parti = obs.groupby('parti').size()\n",
    "sgb_parti = gb_parti.sort_values(ascending = True)\n",
    "sgb_parti"
   ]
  },
  {
   "cell_type": "code",
   "execution_count": 32,
   "id": "final-paragraph",
   "metadata": {},
   "outputs": [
    {
     "data": {
      "text/html": [
       "<div>\n",
       "<style scoped>\n",
       "    .dataframe tbody tr th:only-of-type {\n",
       "        vertical-align: middle;\n",
       "    }\n",
       "\n",
       "    .dataframe tbody tr th {\n",
       "        vertical-align: top;\n",
       "    }\n",
       "\n",
       "    .dataframe thead th {\n",
       "        text-align: right;\n",
       "    }\n",
       "</style>\n",
       "<table border=\"1\" class=\"dataframe\">\n",
       "  <thead>\n",
       "    <tr style=\"text-align: right;\">\n",
       "      <th></th>\n",
       "      <th>parti</th>\n",
       "      <th>0</th>\n",
       "    </tr>\n",
       "  </thead>\n",
       "  <tbody>\n",
       "    <tr>\n",
       "      <th>0</th>\n",
       "      <td>centre</td>\n",
       "      <td>161</td>\n",
       "    </tr>\n",
       "    <tr>\n",
       "      <th>1</th>\n",
       "      <td>gauche</td>\n",
       "      <td>169</td>\n",
       "    </tr>\n",
       "    <tr>\n",
       "      <th>2</th>\n",
       "      <td>populiste</td>\n",
       "      <td>187</td>\n",
       "    </tr>\n",
       "    <tr>\n",
       "      <th>3</th>\n",
       "      <td>écologiste</td>\n",
       "      <td>190</td>\n",
       "    </tr>\n",
       "    <tr>\n",
       "      <th>4</th>\n",
       "      <td>droite</td>\n",
       "      <td>193</td>\n",
       "    </tr>\n",
       "  </tbody>\n",
       "</table>\n",
       "</div>"
      ],
      "text/plain": [
       "        parti    0\n",
       "0      centre  161\n",
       "1      gauche  169\n",
       "2   populiste  187\n",
       "3  écologiste  190\n",
       "4      droite  193"
      ]
     },
     "execution_count": 32,
     "metadata": {},
     "output_type": "execute_result"
    }
   ],
   "source": [
    "df_partis = pd.DataFrame(sgb_parti)\n",
    "df_partis.reset_index(inplace=True)\n",
    "df_partis"
   ]
  },
  {
   "cell_type": "code",
   "execution_count": 33,
   "id": "sorted-lunch",
   "metadata": {
    "tags": []
   },
   "outputs": [
    {
     "data": {
      "text/html": [
       "<div>\n",
       "<style scoped>\n",
       "    .dataframe tbody tr th:only-of-type {\n",
       "        vertical-align: middle;\n",
       "    }\n",
       "\n",
       "    .dataframe tbody tr th {\n",
       "        vertical-align: top;\n",
       "    }\n",
       "\n",
       "    .dataframe thead th {\n",
       "        text-align: right;\n",
       "    }\n",
       "</style>\n",
       "<table border=\"1\" class=\"dataframe\">\n",
       "  <thead>\n",
       "    <tr style=\"text-align: right;\">\n",
       "      <th></th>\n",
       "      <th>parti</th>\n",
       "      <th>effectif</th>\n",
       "      <th>code_parti</th>\n",
       "    </tr>\n",
       "  </thead>\n",
       "  <tbody>\n",
       "    <tr>\n",
       "      <th>0</th>\n",
       "      <td>centre</td>\n",
       "      <td>161</td>\n",
       "      <td>4</td>\n",
       "    </tr>\n",
       "    <tr>\n",
       "      <th>1</th>\n",
       "      <td>gauche</td>\n",
       "      <td>169</td>\n",
       "      <td>2</td>\n",
       "    </tr>\n",
       "    <tr>\n",
       "      <th>2</th>\n",
       "      <td>populiste</td>\n",
       "      <td>187</td>\n",
       "      <td>5</td>\n",
       "    </tr>\n",
       "    <tr>\n",
       "      <th>3</th>\n",
       "      <td>écologiste</td>\n",
       "      <td>190</td>\n",
       "      <td>3</td>\n",
       "    </tr>\n",
       "    <tr>\n",
       "      <th>4</th>\n",
       "      <td>droite</td>\n",
       "      <td>193</td>\n",
       "      <td>1</td>\n",
       "    </tr>\n",
       "  </tbody>\n",
       "</table>\n",
       "</div>"
      ],
      "text/plain": [
       "        parti  effectif  code_parti\n",
       "0      centre       161           4\n",
       "1      gauche       169           2\n",
       "2   populiste       187           5\n",
       "3  écologiste       190           3\n",
       "4      droite       193           1"
      ]
     },
     "execution_count": 33,
     "metadata": {},
     "output_type": "execute_result"
    }
   ],
   "source": [
    "df_partis.columns = ['parti','effectif']\n",
    "df_partis['code_parti'] = [4,2,5,3,1]\n",
    "# df_partis.reset_index('parti').set_index('code_parti')\n",
    "df_partis"
   ]
  },
  {
   "cell_type": "code",
   "execution_count": 53,
   "id": "outside-pattern",
   "metadata": {
    "tags": []
   },
   "outputs": [
    {
     "data": {
      "image/png": "[encoded data removed]",
      "text/plain": [
       "<Figure size 1152x576 with 1 Axes>"
      ]
     },
     "metadata": {
      "needs_background": "light"
     },
     "output_type": "display_data"
    }
   ],
   "source": [
    "# Distribution par parti\n",
    "\n",
    "objects = [l for l in df_partis['parti']]\n",
    "eff = [l for l in df_partis['effectif']]\n",
    "\n",
    "objects = [l for l in df_partis.sort_values('code_parti')['parti']]\n",
    "eff = [l for l in df_partis.sort_values('code_parti')['effectif']]\n",
    "\n",
    "\n",
    "\n",
    "p1 = plt.bar(objects, eff, width=0.4)\n",
    "\n",
    "#plt.xticks(l5Years)\n",
    "plt.ylabel('Effectif')\n",
    "plt.title('Effectifs par parti')\n",
    "plt.gcf().set_size_inches(16, 8)\n",
    "#plt.gca().axes.get_xaxis().set_visible(False)\n",
    "# supported formats: eps, pdf, pgf, png, ps, raw, rgba, svg, svgz\n",
    "#plt.savefig('exported_pictures/effectifs_naissances_par_annee.png', dpi=100, bbox_inches = \"tight\") #pdf, svg\n",
    "plt.xticks(rotation=45)\n",
    "plt.show()\n"
   ]
  },
  {
   "cell_type": "code",
   "execution_count": 35,
   "id": "flush-annual",
   "metadata": {},
   "outputs": [
    {
     "data": {
      "text/plain": [
       "lecture_journal\n",
       "le week-end                    162\n",
       "tous les jours                 172\n",
       "deux-trois fois par semaine    179\n",
       "très rarement                  179\n",
       "de temps en temps              208\n",
       "dtype: int64"
      ]
     },
     "execution_count": 35,
     "metadata": {},
     "output_type": "execute_result"
    }
   ],
   "source": [
    "sgb_lecture_journal"
   ]
  },
  {
   "cell_type": "code",
   "execution_count": 36,
   "id": "textile-economy",
   "metadata": {},
   "outputs": [
    {
     "data": {
      "text/html": [
       "<div>\n",
       "<style scoped>\n",
       "    .dataframe tbody tr th:only-of-type {\n",
       "        vertical-align: middle;\n",
       "    }\n",
       "\n",
       "    .dataframe tbody tr th {\n",
       "        vertical-align: top;\n",
       "    }\n",
       "\n",
       "    .dataframe thead th {\n",
       "        text-align: right;\n",
       "    }\n",
       "</style>\n",
       "<table border=\"1\" class=\"dataframe\">\n",
       "  <thead>\n",
       "    <tr style=\"text-align: right;\">\n",
       "      <th></th>\n",
       "      <th>lecture_journal</th>\n",
       "      <th>0</th>\n",
       "    </tr>\n",
       "  </thead>\n",
       "  <tbody>\n",
       "    <tr>\n",
       "      <th>0</th>\n",
       "      <td>le week-end</td>\n",
       "      <td>162</td>\n",
       "    </tr>\n",
       "    <tr>\n",
       "      <th>1</th>\n",
       "      <td>tous les jours</td>\n",
       "      <td>172</td>\n",
       "    </tr>\n",
       "    <tr>\n",
       "      <th>2</th>\n",
       "      <td>deux-trois fois par semaine</td>\n",
       "      <td>179</td>\n",
       "    </tr>\n",
       "    <tr>\n",
       "      <th>3</th>\n",
       "      <td>très rarement</td>\n",
       "      <td>179</td>\n",
       "    </tr>\n",
       "    <tr>\n",
       "      <th>4</th>\n",
       "      <td>de temps en temps</td>\n",
       "      <td>208</td>\n",
       "    </tr>\n",
       "  </tbody>\n",
       "</table>\n",
       "</div>"
      ],
      "text/plain": [
       "               lecture_journal    0\n",
       "0                  le week-end  162\n",
       "1               tous les jours  172\n",
       "2  deux-trois fois par semaine  179\n",
       "3                très rarement  179\n",
       "4            de temps en temps  208"
      ]
     },
     "execution_count": 36,
     "metadata": {},
     "output_type": "execute_result"
    }
   ],
   "source": [
    "df_lecture_journal = pd.DataFrame(sgb_lecture_journal)\n",
    "df_lecture_journal.reset_index(inplace=True)\n",
    "df_lecture_journal"
   ]
  },
  {
   "cell_type": "code",
   "execution_count": 37,
   "id": "macro-attempt",
   "metadata": {
    "tags": []
   },
   "outputs": [
    {
     "data": {
      "text/html": [
       "<div>\n",
       "<style scoped>\n",
       "    .dataframe tbody tr th:only-of-type {\n",
       "        vertical-align: middle;\n",
       "    }\n",
       "\n",
       "    .dataframe tbody tr th {\n",
       "        vertical-align: top;\n",
       "    }\n",
       "\n",
       "    .dataframe thead th {\n",
       "        text-align: right;\n",
       "    }\n",
       "</style>\n",
       "<table border=\"1\" class=\"dataframe\">\n",
       "  <thead>\n",
       "    <tr style=\"text-align: right;\">\n",
       "      <th></th>\n",
       "      <th>lecture</th>\n",
       "      <th>effectif</th>\n",
       "      <th>code_lecture</th>\n",
       "    </tr>\n",
       "  </thead>\n",
       "  <tbody>\n",
       "    <tr>\n",
       "      <th>0</th>\n",
       "      <td>le week-end</td>\n",
       "      <td>162</td>\n",
       "      <td>2</td>\n",
       "    </tr>\n",
       "    <tr>\n",
       "      <th>1</th>\n",
       "      <td>tous les jours</td>\n",
       "      <td>172</td>\n",
       "      <td>5</td>\n",
       "    </tr>\n",
       "    <tr>\n",
       "      <th>2</th>\n",
       "      <td>deux-trois fois par semaine</td>\n",
       "      <td>179</td>\n",
       "      <td>3</td>\n",
       "    </tr>\n",
       "    <tr>\n",
       "      <th>3</th>\n",
       "      <td>très rarement</td>\n",
       "      <td>179</td>\n",
       "      <td>1</td>\n",
       "    </tr>\n",
       "    <tr>\n",
       "      <th>4</th>\n",
       "      <td>de temps en temps</td>\n",
       "      <td>208</td>\n",
       "      <td>4</td>\n",
       "    </tr>\n",
       "  </tbody>\n",
       "</table>\n",
       "</div>"
      ],
      "text/plain": [
       "                       lecture  effectif  code_lecture\n",
       "0                  le week-end       162             2\n",
       "1               tous les jours       172             5\n",
       "2  deux-trois fois par semaine       179             3\n",
       "3                très rarement       179             1\n",
       "4            de temps en temps       208             4"
      ]
     },
     "execution_count": 37,
     "metadata": {},
     "output_type": "execute_result"
    }
   ],
   "source": [
    "df_lecture_journal.columns = ['lecture','effectif']\n",
    "df_lecture_journal['code_lecture'] = [2,5,3,1,4]\n",
    "df_lecture_journal"
   ]
  },
  {
   "cell_type": "code",
   "execution_count": 38,
   "id": "british-lesbian",
   "metadata": {},
   "outputs": [
    {
     "data": {
      "text/html": [
       "<div>\n",
       "<style scoped>\n",
       "    .dataframe tbody tr th:only-of-type {\n",
       "        vertical-align: middle;\n",
       "    }\n",
       "\n",
       "    .dataframe tbody tr th {\n",
       "        vertical-align: top;\n",
       "    }\n",
       "\n",
       "    .dataframe thead th {\n",
       "        text-align: right;\n",
       "    }\n",
       "</style>\n",
       "<table border=\"1\" class=\"dataframe\">\n",
       "  <thead>\n",
       "    <tr style=\"text-align: right;\">\n",
       "      <th></th>\n",
       "      <th>lecture</th>\n",
       "      <th>effectif</th>\n",
       "      <th>code_lecture</th>\n",
       "    </tr>\n",
       "  </thead>\n",
       "  <tbody>\n",
       "    <tr>\n",
       "      <th>3</th>\n",
       "      <td>très rarement</td>\n",
       "      <td>179</td>\n",
       "      <td>1</td>\n",
       "    </tr>\n",
       "    <tr>\n",
       "      <th>0</th>\n",
       "      <td>le week-end</td>\n",
       "      <td>162</td>\n",
       "      <td>2</td>\n",
       "    </tr>\n",
       "    <tr>\n",
       "      <th>2</th>\n",
       "      <td>deux-trois fois par semaine</td>\n",
       "      <td>179</td>\n",
       "      <td>3</td>\n",
       "    </tr>\n",
       "    <tr>\n",
       "      <th>4</th>\n",
       "      <td>de temps en temps</td>\n",
       "      <td>208</td>\n",
       "      <td>4</td>\n",
       "    </tr>\n",
       "    <tr>\n",
       "      <th>1</th>\n",
       "      <td>tous les jours</td>\n",
       "      <td>172</td>\n",
       "      <td>5</td>\n",
       "    </tr>\n",
       "  </tbody>\n",
       "</table>\n",
       "</div>"
      ],
      "text/plain": [
       "                       lecture  effectif  code_lecture\n",
       "3                très rarement       179             1\n",
       "0                  le week-end       162             2\n",
       "2  deux-trois fois par semaine       179             3\n",
       "4            de temps en temps       208             4\n",
       "1               tous les jours       172             5"
      ]
     },
     "execution_count": 38,
     "metadata": {},
     "output_type": "execute_result"
    }
   ],
   "source": [
    "df_lecture_journal.sort_values('code_lecture', inplace=True)\n",
    "df_lecture_journal"
   ]
  },
  {
   "cell_type": "code",
   "execution_count": 39,
   "id": "hundred-palmer",
   "metadata": {},
   "outputs": [
    {
     "data": {
      "text/html": [
       "<div>\n",
       "<style scoped>\n",
       "    .dataframe tbody tr th:only-of-type {\n",
       "        vertical-align: middle;\n",
       "    }\n",
       "\n",
       "    .dataframe tbody tr th {\n",
       "        vertical-align: top;\n",
       "    }\n",
       "\n",
       "    .dataframe thead th {\n",
       "        text-align: right;\n",
       "    }\n",
       "</style>\n",
       "<table border=\"1\" class=\"dataframe\">\n",
       "  <thead>\n",
       "    <tr style=\"text-align: right;\">\n",
       "      <th></th>\n",
       "      <th>lecture</th>\n",
       "      <th>effectif</th>\n",
       "      <th>code_lecture</th>\n",
       "      <th>effectif_cumule</th>\n",
       "    </tr>\n",
       "  </thead>\n",
       "  <tbody>\n",
       "    <tr>\n",
       "      <th>3</th>\n",
       "      <td>très rarement</td>\n",
       "      <td>179</td>\n",
       "      <td>1</td>\n",
       "      <td>179</td>\n",
       "    </tr>\n",
       "    <tr>\n",
       "      <th>0</th>\n",
       "      <td>le week-end</td>\n",
       "      <td>162</td>\n",
       "      <td>2</td>\n",
       "      <td>341</td>\n",
       "    </tr>\n",
       "    <tr>\n",
       "      <th>2</th>\n",
       "      <td>deux-trois fois par semaine</td>\n",
       "      <td>179</td>\n",
       "      <td>3</td>\n",
       "      <td>520</td>\n",
       "    </tr>\n",
       "    <tr>\n",
       "      <th>4</th>\n",
       "      <td>de temps en temps</td>\n",
       "      <td>208</td>\n",
       "      <td>4</td>\n",
       "      <td>728</td>\n",
       "    </tr>\n",
       "    <tr>\n",
       "      <th>1</th>\n",
       "      <td>tous les jours</td>\n",
       "      <td>172</td>\n",
       "      <td>5</td>\n",
       "      <td>900</td>\n",
       "    </tr>\n",
       "  </tbody>\n",
       "</table>\n",
       "</div>"
      ],
      "text/plain": [
       "                       lecture  effectif  code_lecture  effectif_cumule\n",
       "3                très rarement       179             1              179\n",
       "0                  le week-end       162             2              341\n",
       "2  deux-trois fois par semaine       179             3              520\n",
       "4            de temps en temps       208             4              728\n",
       "1               tous les jours       172             5              900"
      ]
     },
     "execution_count": 39,
     "metadata": {},
     "output_type": "execute_result"
    }
   ],
   "source": [
    "df_lecture_journal['effectif_cumule'] = df_lecture_journal['effectif'].cumsum()\n",
    "df_lecture_journal"
   ]
  },
  {
   "cell_type": "code",
   "execution_count": 41,
   "id": "greenhouse-dimension",
   "metadata": {},
   "outputs": [
    {
     "data": {
      "text/html": [
       "<div>\n",
       "<style scoped>\n",
       "    .dataframe tbody tr th:only-of-type {\n",
       "        vertical-align: middle;\n",
       "    }\n",
       "\n",
       "    .dataframe tbody tr th {\n",
       "        vertical-align: top;\n",
       "    }\n",
       "\n",
       "    .dataframe thead th {\n",
       "        text-align: right;\n",
       "    }\n",
       "</style>\n",
       "<table border=\"1\" class=\"dataframe\">\n",
       "  <thead>\n",
       "    <tr style=\"text-align: right;\">\n",
       "      <th></th>\n",
       "      <th>lecture</th>\n",
       "      <th>effectif</th>\n",
       "      <th>code_lecture</th>\n",
       "      <th>effectif_cumule</th>\n",
       "      <th>frequence</th>\n",
       "    </tr>\n",
       "  </thead>\n",
       "  <tbody>\n",
       "    <tr>\n",
       "      <th>3</th>\n",
       "      <td>très rarement</td>\n",
       "      <td>179</td>\n",
       "      <td>1</td>\n",
       "      <td>179</td>\n",
       "      <td>19.89</td>\n",
       "    </tr>\n",
       "    <tr>\n",
       "      <th>0</th>\n",
       "      <td>le week-end</td>\n",
       "      <td>162</td>\n",
       "      <td>2</td>\n",
       "      <td>341</td>\n",
       "      <td>18.00</td>\n",
       "    </tr>\n",
       "    <tr>\n",
       "      <th>2</th>\n",
       "      <td>deux-trois fois par semaine</td>\n",
       "      <td>179</td>\n",
       "      <td>3</td>\n",
       "      <td>520</td>\n",
       "      <td>19.89</td>\n",
       "    </tr>\n",
       "    <tr>\n",
       "      <th>4</th>\n",
       "      <td>de temps en temps</td>\n",
       "      <td>208</td>\n",
       "      <td>4</td>\n",
       "      <td>728</td>\n",
       "      <td>23.11</td>\n",
       "    </tr>\n",
       "    <tr>\n",
       "      <th>1</th>\n",
       "      <td>tous les jours</td>\n",
       "      <td>172</td>\n",
       "      <td>5</td>\n",
       "      <td>900</td>\n",
       "      <td>19.11</td>\n",
       "    </tr>\n",
       "  </tbody>\n",
       "</table>\n",
       "</div>"
      ],
      "text/plain": [
       "                       lecture  effectif  code_lecture  effectif_cumule  \\\n",
       "3                très rarement       179             1              179   \n",
       "0                  le week-end       162             2              341   \n",
       "2  deux-trois fois par semaine       179             3              520   \n",
       "4            de temps en temps       208             4              728   \n",
       "1               tous les jours       172             5              900   \n",
       "\n",
       "   frequence  \n",
       "3      19.89  \n",
       "0      18.00  \n",
       "2      19.89  \n",
       "4      23.11  \n",
       "1      19.11  "
      ]
     },
     "execution_count": 41,
     "metadata": {},
     "output_type": "execute_result"
    }
   ],
   "source": [
    "df_lecture_journal['frequence'] = (100 * df_lecture_journal['effectif'] \\\n",
    "                                   / df_lecture_journal['effectif'].sum()).round(2)\n",
    "df_lecture_journal"
   ]
  },
  {
   "cell_type": "code",
   "execution_count": 42,
   "id": "italian-chassis",
   "metadata": {},
   "outputs": [
    {
     "data": {
      "text/html": [
       "<div>\n",
       "<style scoped>\n",
       "    .dataframe tbody tr th:only-of-type {\n",
       "        vertical-align: middle;\n",
       "    }\n",
       "\n",
       "    .dataframe tbody tr th {\n",
       "        vertical-align: top;\n",
       "    }\n",
       "\n",
       "    .dataframe thead th {\n",
       "        text-align: right;\n",
       "    }\n",
       "</style>\n",
       "<table border=\"1\" class=\"dataframe\">\n",
       "  <thead>\n",
       "    <tr style=\"text-align: right;\">\n",
       "      <th></th>\n",
       "      <th>lecture</th>\n",
       "      <th>effectif</th>\n",
       "      <th>code_lecture</th>\n",
       "      <th>effectif_cumule</th>\n",
       "      <th>frequence</th>\n",
       "      <th>frequence_cumulee</th>\n",
       "    </tr>\n",
       "  </thead>\n",
       "  <tbody>\n",
       "    <tr>\n",
       "      <th>3</th>\n",
       "      <td>très rarement</td>\n",
       "      <td>179</td>\n",
       "      <td>1</td>\n",
       "      <td>179</td>\n",
       "      <td>19.89</td>\n",
       "      <td>19.89</td>\n",
       "    </tr>\n",
       "    <tr>\n",
       "      <th>0</th>\n",
       "      <td>le week-end</td>\n",
       "      <td>162</td>\n",
       "      <td>2</td>\n",
       "      <td>341</td>\n",
       "      <td>18.00</td>\n",
       "      <td>37.89</td>\n",
       "    </tr>\n",
       "    <tr>\n",
       "      <th>2</th>\n",
       "      <td>deux-trois fois par semaine</td>\n",
       "      <td>179</td>\n",
       "      <td>3</td>\n",
       "      <td>520</td>\n",
       "      <td>19.89</td>\n",
       "      <td>57.78</td>\n",
       "    </tr>\n",
       "    <tr>\n",
       "      <th>4</th>\n",
       "      <td>de temps en temps</td>\n",
       "      <td>208</td>\n",
       "      <td>4</td>\n",
       "      <td>728</td>\n",
       "      <td>23.11</td>\n",
       "      <td>80.89</td>\n",
       "    </tr>\n",
       "    <tr>\n",
       "      <th>1</th>\n",
       "      <td>tous les jours</td>\n",
       "      <td>172</td>\n",
       "      <td>5</td>\n",
       "      <td>900</td>\n",
       "      <td>19.11</td>\n",
       "      <td>100.00</td>\n",
       "    </tr>\n",
       "  </tbody>\n",
       "</table>\n",
       "</div>"
      ],
      "text/plain": [
       "                       lecture  effectif  code_lecture  effectif_cumule  \\\n",
       "3                très rarement       179             1              179   \n",
       "0                  le week-end       162             2              341   \n",
       "2  deux-trois fois par semaine       179             3              520   \n",
       "4            de temps en temps       208             4              728   \n",
       "1               tous les jours       172             5              900   \n",
       "\n",
       "   frequence  frequence_cumulee  \n",
       "3      19.89              19.89  \n",
       "0      18.00              37.89  \n",
       "2      19.89              57.78  \n",
       "4      23.11              80.89  \n",
       "1      19.11             100.00  "
      ]
     },
     "execution_count": 42,
     "metadata": {},
     "output_type": "execute_result"
    }
   ],
   "source": [
    "### Fréquence cumulée calculée en utilisant les effectifs cumulés\n",
    "\n",
    "df_lecture_journal['frequence_cumulee'] = (100 * df_lecture_journal['effectif_cumule'] \\\n",
    "                                / df_lecture_journal['effectif'].sum()).round(2)\n",
    "df_lecture_journal"
   ]
  },
  {
   "cell_type": "code",
   "execution_count": 43,
   "id": "historic-bench",
   "metadata": {},
   "outputs": [
    {
     "data": {
      "text/html": [
       "<div>\n",
       "<style scoped>\n",
       "    .dataframe tbody tr th:only-of-type {\n",
       "        vertical-align: middle;\n",
       "    }\n",
       "\n",
       "    .dataframe tbody tr th {\n",
       "        vertical-align: top;\n",
       "    }\n",
       "\n",
       "    .dataframe thead th {\n",
       "        text-align: right;\n",
       "    }\n",
       "</style>\n",
       "<table border=\"1\" class=\"dataframe\">\n",
       "  <thead>\n",
       "    <tr style=\"text-align: right;\">\n",
       "      <th></th>\n",
       "      <th>lecture</th>\n",
       "      <th>effectif</th>\n",
       "      <th>code_lecture</th>\n",
       "      <th>effectif_cumule</th>\n",
       "      <th>frequence</th>\n",
       "      <th>frequence_cumulee</th>\n",
       "    </tr>\n",
       "  </thead>\n",
       "  <tbody>\n",
       "    <tr>\n",
       "      <th>3</th>\n",
       "      <td>très rarement</td>\n",
       "      <td>179</td>\n",
       "      <td>1</td>\n",
       "      <td>179</td>\n",
       "      <td>19.89</td>\n",
       "      <td>19.89</td>\n",
       "    </tr>\n",
       "    <tr>\n",
       "      <th>0</th>\n",
       "      <td>le week-end</td>\n",
       "      <td>162</td>\n",
       "      <td>2</td>\n",
       "      <td>341</td>\n",
       "      <td>18.00</td>\n",
       "      <td>37.89</td>\n",
       "    </tr>\n",
       "    <tr>\n",
       "      <th>2</th>\n",
       "      <td>deux-trois fois par semaine</td>\n",
       "      <td>179</td>\n",
       "      <td>3</td>\n",
       "      <td>520</td>\n",
       "      <td>19.89</td>\n",
       "      <td>57.78</td>\n",
       "    </tr>\n",
       "    <tr>\n",
       "      <th>4</th>\n",
       "      <td>de temps en temps</td>\n",
       "      <td>208</td>\n",
       "      <td>4</td>\n",
       "      <td>728</td>\n",
       "      <td>23.11</td>\n",
       "      <td>80.89</td>\n",
       "    </tr>\n",
       "    <tr>\n",
       "      <th>1</th>\n",
       "      <td>tous les jours</td>\n",
       "      <td>172</td>\n",
       "      <td>5</td>\n",
       "      <td>900</td>\n",
       "      <td>19.11</td>\n",
       "      <td>100.00</td>\n",
       "    </tr>\n",
       "  </tbody>\n",
       "</table>\n",
       "</div>"
      ],
      "text/plain": [
       "                       lecture  effectif  code_lecture  effectif_cumule  \\\n",
       "3                très rarement       179             1              179   \n",
       "0                  le week-end       162             2              341   \n",
       "2  deux-trois fois par semaine       179             3              520   \n",
       "4            de temps en temps       208             4              728   \n",
       "1               tous les jours       172             5              900   \n",
       "\n",
       "   frequence  frequence_cumulee  \n",
       "3      19.89              19.89  \n",
       "0      18.00              37.89  \n",
       "2      19.89              57.78  \n",
       "4      23.11              80.89  \n",
       "1      19.11             100.00  "
      ]
     },
     "execution_count": 43,
     "metadata": {},
     "output_type": "execute_result"
    }
   ],
   "source": [
    "### Fréquence cumulée calculée directement\n",
    "\n",
    "# Cf. https://www.geeksforgeeks.org/cumulative-percentage-of-a-column-in-pandas-python/\n",
    "\n",
    "df_lecture_journal['frequence_cumulee'] = (100 * df_lecture_journal['effectif'].cumsum() \\\n",
    "                                / df_lecture_journal['effectif'].sum()).round(2)\n",
    "df_lecture_journal"
   ]
  },
  {
   "cell_type": "code",
   "execution_count": 50,
   "id": "latter-treatment",
   "metadata": {},
   "outputs": [
    {
     "data": {
      "image/png": "[encoded data removed]",
      "text/plain": [
       "<Figure size 1152x576 with 1 Axes>"
      ]
     },
     "metadata": {
      "needs_background": "light"
     },
     "output_type": "display_data"
    }
   ],
   "source": [
    "# Distribution par lecture journal\n",
    "\n",
    "objects = [l for l in sgb_lecture_journal.index]\n",
    "eff = [l for l in sgb_lecture_journal.values]\n",
    "\n",
    "\n",
    "objects = [l for l in df_lecture_journal.sort_values('code_lecture')['lecture']]\n",
    "eff = [l for l in df_lecture_journal.sort_values('code_lecture')['effectif']]\n",
    "\n",
    "p1 = plt.bar(objects, eff, width=0.3)\n",
    "\n",
    "#plt.xticks(l5Years)\n",
    "plt.ylabel('Effectif')\n",
    "plt.title('Effectif par lecture du journal')\n",
    "plt.gcf().set_size_inches(16, 8)\n",
    "#plt.gca().axes.get_xaxis().set_visible(False)\n",
    "# supported formats: eps, pdf, pgf, png, ps, raw, rgba, svg, svgz\n",
    "#plt.savefig('exported_pictures/effectifs_naissances_par_annee.png', dpi=100, bbox_inches = \"tight\") #pdf, svg\n",
    "plt.xticks(rotation=45)\n",
    "plt.show()\n"
   ]
  },
  {
   "cell_type": "code",
   "execution_count": 52,
   "id": "expensive-program",
   "metadata": {},
   "outputs": [
    {
     "data": {
      "image/png": "[encoded data removed]",
      "text/plain": [
       "<Figure size 1152x576 with 1 Axes>"
      ]
     },
     "metadata": {
      "needs_background": "light"
     },
     "output_type": "display_data"
    }
   ],
   "source": [
    "# Distribution par lecture journal\n",
    "\n",
    "objects = [l for l in sgb_lecture_journal.index]\n",
    "eff = [l for l in sgb_lecture_journal.values]\n",
    "\n",
    "\n",
    "objects = [l for l in df_lecture_journal['lecture']]\n",
    "eff = [l for l in df_lecture_journal['frequence_cumulee']]\n",
    "\n",
    "p1 = plt.bar(objects, eff, width=0.4)\n",
    "\n",
    "#plt.xticks(l5Years)\n",
    "plt.ylabel('Fréquence cumulée')\n",
    "plt.title('Fréquence cumulée par lecture du journal')\n",
    "plt.gcf().set_size_inches(16, 8)\n",
    "#plt.gca().axes.get_xaxis().set_visible(False)\n",
    "# supported formats: eps, pdf, pgf, png, ps, raw, rgba, svg, svgz\n",
    "#plt.savefig('exported_pictures/effectifs_naissances_par_annee.png', dpi=100, bbox_inches = \"tight\") #pdf, svg\n",
    "plt.xticks(rotation=45)\n",
    "plt.show()\n"
   ]
  },
  {
   "cell_type": "markdown",
   "id": "standing-brunswick",
   "metadata": {},
   "source": [
    "## Paramètre"
   ]
  },
  {
   "cell_type": "code",
   "execution_count": 5,
   "id": "viral-racing",
   "metadata": {},
   "outputs": [
    {
     "data": {
      "text/plain": [
       "count    100.000000\n",
       "mean      51.740000\n",
       "std       21.675113\n",
       "min       18.000000\n",
       "25%       32.000000\n",
       "50%       52.000000\n",
       "75%       73.250000\n",
       "max       90.000000\n",
       "Name: age, dtype: float64"
      ]
     },
     "execution_count": 5,
     "metadata": {},
     "output_type": "execute_result"
    }
   ],
   "source": [
    "obs['age'].describe()"
   ]
  },
  {
   "cell_type": "code",
   "execution_count": 48,
   "id": "framed-chester",
   "metadata": {},
   "outputs": [
    {
     "data": {
      "text/plain": [
       "<AxesSubplot:>"
      ]
     },
     "execution_count": 48,
     "metadata": {},
     "output_type": "execute_result"
    },
    {
     "data": {
      "image/png": "[encoded data removed]",
      "text/plain": [
       "<Figure size 1152x288 with 1 Axes>"
      ]
     },
     "metadata": {
      "needs_background": "light"
     },
     "output_type": "display_data"
    }
   ],
   "source": [
    "obs.boxplot(column=['age'], vert=False, figsize=(16,4))"
   ]
  },
  {
   "cell_type": "code",
   "execution_count": 6,
   "id": "raising-jurisdiction",
   "metadata": {},
   "outputs": [
    {
     "data": {
      "text/plain": [
       "count    100.000000\n",
       "mean       3.670000\n",
       "std        1.826046\n",
       "min        1.000000\n",
       "25%        2.000000\n",
       "50%        4.000000\n",
       "75%        5.000000\n",
       "max        7.000000\n",
       "Name: n_foyer, dtype: float64"
      ]
     },
     "execution_count": 6,
     "metadata": {},
     "output_type": "execute_result"
    }
   ],
   "source": [
    "obs['n_foyer'].describe()"
   ]
  },
  {
   "cell_type": "code",
   "execution_count": null,
   "id": "polish-yesterday",
   "metadata": {},
   "outputs": [],
   "source": []
  },
  {
   "cell_type": "code",
   "execution_count": null,
   "id": "computational-uncertainty",
   "metadata": {},
   "outputs": [],
   "source": []
  },
  {
   "cell_type": "code",
   "execution_count": null,
   "id": "pressing-discretion",
   "metadata": {},
   "outputs": [],
   "source": []
  },
  {
   "cell_type": "code",
   "execution_count": null,
   "id": "perceived-questionnaire",
   "metadata": {},
   "outputs": [],
   "source": []
  },
  {
   "cell_type": "code",
   "execution_count": null,
   "id": "vocational-mumbai",
   "metadata": {},
   "outputs": [],
   "source": []
  },
  {
   "cell_type": "code",
   "execution_count": null,
   "id": "discrete-possession",
   "metadata": {},
   "outputs": [],
   "source": []
  }
 ],
 "metadata": {
  "kernelspec": {
   "display_name": "py37sparql",
   "language": "python",
   "name": "py37sparql"
  },
  "language_info": {
   "codemirror_mode": {
    "name": "ipython",
    "version": 3
   },
   "file_extension": ".py",
   "mimetype": "text/x-python",
   "name": "python",
   "nbconvert_exporter": "python",
   "pygments_lexer": "ipython3",
   "version": "3.7.3"
  }
 },
 "nbformat": 4,
 "nbformat_minor": 5
}
