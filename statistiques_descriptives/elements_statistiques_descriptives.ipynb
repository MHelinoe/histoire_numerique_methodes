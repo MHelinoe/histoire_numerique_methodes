{
 "cells": [
  {
   "cell_type": "code",
   "execution_count": null,
   "id": "tracked-checkout",
   "metadata": {},
   "outputs": [],
   "source": []
  },
  {
   "cell_type": "markdown",
   "id": "european-productivity",
   "metadata": {},
   "source": [
    "## Importer les librairies nécessaires"
   ]
  },
  {
   "cell_type": "code",
   "execution_count": 1,
   "id": "young-identifier",
   "metadata": {},
   "outputs": [],
   "source": [
    "import random\n",
    "import pandas as pd"
   ]
  },
  {
   "cell_type": "markdown",
   "id": "loved-campus",
   "metadata": {},
   "source": [
    "## Références bibliographiques\n",
    "\n",
    "\n",
    "* Hamon : Hamon Philippe, Hamon Agnès, et Jégou Nicolas, _Statistique descriptive. Cours et exercices corrigés_, Rennes, PUR, 2008.\n",
    "* Saly : Saly Pierre, _Méthodes statistiques descriptives pour les historiens_, Paris, A. Colin, 1991.\n",
    "\n"
   ]
  },
  {
   "cell_type": "code",
   "execution_count": null,
   "id": "hairy-russian",
   "metadata": {},
   "outputs": [],
   "source": []
  },
  {
   "cell_type": "markdown",
   "id": "violent-tulsa",
   "metadata": {},
   "source": [
    "## Produire les observations\n",
    "\n",
    "Cf. Hamon, p.4, tableau 1.1\n",
    "\n",
    "Afin de reproduire ce tableau, on utilise des fonctions produisant des valeur aléatoires.\n",
    "\n",
    "* On produit d'abord les valeurs aléatoires (remplaçant les observations) pour chaque variable\n",
    "* On les regroupe ensuite dans un dataframe Pandas"
   ]
  },
  {
   "cell_type": "code",
   "execution_count": 2,
   "id": "sustainable-maple",
   "metadata": {},
   "outputs": [
    {
     "name": "stdout",
     "output_type": "stream",
     "text": [
      "[96, 97, 98, 99, 100]\n"
     ]
    },
    {
     "data": {
      "text/plain": [
       "100"
      ]
     },
     "execution_count": 2,
     "metadata": {},
     "output_type": "execute_result"
    }
   ],
   "source": [
    "### Créer une liste d'identifiants\n",
    "id_list = []\n",
    "[id_list.append(x) for x in range(1,101)]\n",
    "\n",
    "print(id_list[-5:])\n",
    "len(id_list)"
   ]
  },
  {
   "cell_type": "code",
   "execution_count": 3,
   "id": "comparable-compiler",
   "metadata": {},
   "outputs": [
    {
     "name": "stdout",
     "output_type": "stream",
     "text": [
      "[44, 50, 54, 86, 77]\n"
     ]
    },
    {
     "data": {
      "text/plain": [
       "100"
      ]
     },
     "execution_count": 3,
     "metadata": {},
     "output_type": "execute_result"
    }
   ],
   "source": [
    "### Créer une liste d'âges\n",
    "age_list = []\n",
    "for x in range(1,101):\n",
    "    age_list.append(random.randint(18,90))\n",
    "\n",
    "print(age_list[:5])\n",
    "len(age_list)"
   ]
  },
  {
   "cell_type": "code",
   "execution_count": 4,
   "id": "attended-steal",
   "metadata": {},
   "outputs": [
    {
     "name": "stdout",
     "output_type": "stream",
     "text": [
      "[3, 4, 3, 6, 4]\n"
     ]
    },
    {
     "data": {
      "text/plain": [
       "100"
      ]
     },
     "execution_count": 4,
     "metadata": {},
     "output_type": "execute_result"
    }
   ],
   "source": [
    "### Créer une liste de nombre de personne dans un foyer\n",
    "nfoyer_list = []\n",
    "for x in range(1,101):\n",
    "    nfoyer_list.append(random.randint(1,7))\n",
    "\n",
    "print(nfoyer_list[:5])\n",
    "len(nfoyer_list)"
   ]
  },
  {
   "cell_type": "code",
   "execution_count": 5,
   "id": "concrete-replacement",
   "metadata": {},
   "outputs": [
    {
     "name": "stdout",
     "output_type": "stream",
     "text": [
      "['de temps en temps', 'tous les jours', 'de temps en temps', 'tous les jours', 'tous les jours']\n"
     ]
    },
    {
     "data": {
      "text/plain": [
       "100"
      ]
     },
     "execution_count": 5,
     "metadata": {},
     "output_type": "execute_result"
    }
   ],
   "source": [
    "### Créer une liste de fréquences de lecture des journaux\n",
    "lecture_list = []\n",
    "for x in range(1,101):\n",
    "    lecture_list.append(random.choice(['tous les jours', 'de temps en temps', 'très rarement', 'deux-trois fois par semaine', 'le week-end']))\n",
    "\n",
    "print(lecture_list[:5])\n",
    "len(lecture_list)"
   ]
  },
  {
   "cell_type": "code",
   "execution_count": 6,
   "id": "activated-collect",
   "metadata": {},
   "outputs": [
    {
     "name": "stdout",
     "output_type": "stream",
     "text": [
      "['droite', 'droite', 'droite', 'écologiste', 'gauche']\n"
     ]
    },
    {
     "data": {
      "text/plain": [
       "100"
      ]
     },
     "execution_count": 6,
     "metadata": {},
     "output_type": "execute_result"
    }
   ],
   "source": [
    "### Créer une liste d'orientations politiques\n",
    "politique_list = []\n",
    "for x in range(1,101):\n",
    "    politique_list.append(random.choice(['gauche', 'écologiste', 'droite', 'centre', 'populiste']))\n",
    "\n",
    "print(politique_list[:5])\n",
    "len(politique_list)"
   ]
  },
  {
   "cell_type": "markdown",
   "id": "miniature-seattle",
   "metadata": {},
   "source": [
    "### Création du dataframe"
   ]
  },
  {
   "cell_type": "code",
   "execution_count": 7,
   "id": "overall-township",
   "metadata": {},
   "outputs": [],
   "source": [
    "#  https://www.statology.org/add-column-pandas-dataframe/\n",
    "\n",
    "observations = pd.DataFrame({'id' : id_list, 'age' : age_list, 'n_foyer' : nfoyer_list, \n",
    "                             'lecture_journal' : lecture_list, 'parti' : politique_list})"
   ]
  },
  {
   "cell_type": "code",
   "execution_count": 8,
   "id": "first-scratch",
   "metadata": {},
   "outputs": [
    {
     "name": "stdout",
     "output_type": "stream",
     "text": [
      "100\n"
     ]
    },
    {
     "data": {
      "text/html": [
       "<div>\n",
       "<style scoped>\n",
       "    .dataframe tbody tr th:only-of-type {\n",
       "        vertical-align: middle;\n",
       "    }\n",
       "\n",
       "    .dataframe tbody tr th {\n",
       "        vertical-align: top;\n",
       "    }\n",
       "\n",
       "    .dataframe thead th {\n",
       "        text-align: right;\n",
       "    }\n",
       "</style>\n",
       "<table border=\"1\" class=\"dataframe\">\n",
       "  <thead>\n",
       "    <tr style=\"text-align: right;\">\n",
       "      <th></th>\n",
       "      <th>id</th>\n",
       "      <th>age</th>\n",
       "      <th>n_foyer</th>\n",
       "      <th>lecture_journal</th>\n",
       "      <th>parti</th>\n",
       "    </tr>\n",
       "  </thead>\n",
       "  <tbody>\n",
       "    <tr>\n",
       "      <th>0</th>\n",
       "      <td>1</td>\n",
       "      <td>44</td>\n",
       "      <td>3</td>\n",
       "      <td>de temps en temps</td>\n",
       "      <td>droite</td>\n",
       "    </tr>\n",
       "    <tr>\n",
       "      <th>1</th>\n",
       "      <td>2</td>\n",
       "      <td>50</td>\n",
       "      <td>4</td>\n",
       "      <td>tous les jours</td>\n",
       "      <td>droite</td>\n",
       "    </tr>\n",
       "    <tr>\n",
       "      <th>2</th>\n",
       "      <td>3</td>\n",
       "      <td>54</td>\n",
       "      <td>3</td>\n",
       "      <td>de temps en temps</td>\n",
       "      <td>droite</td>\n",
       "    </tr>\n",
       "    <tr>\n",
       "      <th>3</th>\n",
       "      <td>4</td>\n",
       "      <td>86</td>\n",
       "      <td>6</td>\n",
       "      <td>tous les jours</td>\n",
       "      <td>écologiste</td>\n",
       "    </tr>\n",
       "    <tr>\n",
       "      <th>4</th>\n",
       "      <td>5</td>\n",
       "      <td>77</td>\n",
       "      <td>4</td>\n",
       "      <td>tous les jours</td>\n",
       "      <td>gauche</td>\n",
       "    </tr>\n",
       "  </tbody>\n",
       "</table>\n",
       "</div>"
      ],
      "text/plain": [
       "   id  age  n_foyer    lecture_journal       parti\n",
       "0   1   44        3  de temps en temps      droite\n",
       "1   2   50        4     tous les jours      droite\n",
       "2   3   54        3  de temps en temps      droite\n",
       "3   4   86        6     tous les jours  écologiste\n",
       "4   5   77        4     tous les jours      gauche"
      ]
     },
     "execution_count": 8,
     "metadata": {},
     "output_type": "execute_result"
    }
   ],
   "source": [
    "print(len(observations))\n",
    "observations.head()"
   ]
  },
  {
   "cell_type": "code",
   "execution_count": 9,
   "id": "immune-rendering",
   "metadata": {},
   "outputs": [],
   "source": [
    "### Ecrire le fichier sur le disque afin de le corriger manuellement\n",
    "\n",
    "path = 'data/observations.csv'\n",
    "observations.to_csv(path)"
   ]
  },
  {
   "cell_type": "code",
   "execution_count": null,
   "id": "hired-contest",
   "metadata": {},
   "outputs": [],
   "source": []
  },
  {
   "cell_type": "code",
   "execution_count": 11,
   "id": "billion-motivation",
   "metadata": {},
   "outputs": [
    {
     "data": {
      "text/plain": [
       "count    100.000000\n",
       "mean      54.550000\n",
       "std       22.164388\n",
       "min       18.000000\n",
       "25%       36.000000\n",
       "50%       55.000000\n",
       "75%       74.000000\n",
       "max       90.000000\n",
       "Name: age, dtype: float64"
      ]
     },
     "execution_count": 11,
     "metadata": {},
     "output_type": "execute_result"
    }
   ],
   "source": [
    "observations['age'].describe()"
   ]
  },
  {
   "cell_type": "code",
   "execution_count": null,
   "id": "capable-banks",
   "metadata": {},
   "outputs": [],
   "source": []
  },
  {
   "cell_type": "code",
   "execution_count": null,
   "id": "amazing-briefs",
   "metadata": {},
   "outputs": [],
   "source": []
  },
  {
   "cell_type": "code",
   "execution_count": null,
   "id": "magnetic-jonathan",
   "metadata": {},
   "outputs": [],
   "source": []
  },
  {
   "cell_type": "code",
   "execution_count": null,
   "id": "sharp-budapest",
   "metadata": {},
   "outputs": [],
   "source": []
  }
 ],
 "metadata": {
  "kernelspec": {
   "display_name": "py37sparql",
   "language": "python",
   "name": "py37sparql"
  },
  "language_info": {
   "codemirror_mode": {
    "name": "ipython",
    "version": 3
   },
   "file_extension": ".py",
   "mimetype": "text/x-python",
   "name": "python",
   "nbconvert_exporter": "python",
   "pygments_lexer": "ipython3",
   "version": "3.7.3"
  }
 },
 "nbformat": 4,
 "nbformat_minor": 5
}
